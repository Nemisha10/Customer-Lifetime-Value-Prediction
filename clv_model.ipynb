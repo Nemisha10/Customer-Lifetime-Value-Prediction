{
 "cells": [
  {
   "cell_type": "markdown",
   "id": "1cc2b0cc",
   "metadata": {},
   "source": [
    "# Customer Lifetime Value Prediction"
   ]
  },
  {
   "cell_type": "code",
   "execution_count": 1,
   "id": "10536e1e",
   "metadata": {},
   "outputs": [],
   "source": [
    "import numpy as np # linear algebra\n",
    "import pandas as pd # data processing\n",
    "# for plotting \n",
    "import matplotlib.pyplot as plt\n",
    "import seaborn as sns"
   ]
  },
  {
   "cell_type": "code",
   "execution_count": 2,
   "id": "5e1edd44",
   "metadata": {},
   "outputs": [],
   "source": [
    "# for plotting \n",
    "import plotly.express as px\n",
    "import pandas as pd\n",
    "import plotly"
   ]
  },
  {
   "cell_type": "code",
   "execution_count": 3,
   "id": "a30e8630",
   "metadata": {},
   "outputs": [],
   "source": [
    "import datetime as dt\n",
    "from lifetimes import BetaGeoFitter\n",
    "from lifetimes import GammaGammaFitter"
   ]
  },
  {
   "cell_type": "markdown",
   "id": "504d4c0e",
   "metadata": {},
   "source": [
    "ref: https://medium.com/analytics-vidhya/customer-life-time-value-prediction-by-using-bg-nbd-gamma-gamma-models-and-applied-example-in-997a5ee481ad"
   ]
  },
  {
   "cell_type": "code",
   "execution_count": 4,
   "id": "8ec4c405",
   "metadata": {},
   "outputs": [],
   "source": [
    "df = pd.read_csv(\"/Users/nemisha/Desktop/CLV_ML2/Online Retail.xlsx - Online Retail.csv\")"
   ]
  },
  {
   "cell_type": "code",
   "execution_count": 5,
   "id": "e35e5f54",
   "metadata": {},
   "outputs": [
    {
     "data": {
      "text/html": [
       "<div>\n",
       "<style scoped>\n",
       "    .dataframe tbody tr th:only-of-type {\n",
       "        vertical-align: middle;\n",
       "    }\n",
       "\n",
       "    .dataframe tbody tr th {\n",
       "        vertical-align: top;\n",
       "    }\n",
       "\n",
       "    .dataframe thead th {\n",
       "        text-align: right;\n",
       "    }\n",
       "</style>\n",
       "<table border=\"1\" class=\"dataframe\">\n",
       "  <thead>\n",
       "    <tr style=\"text-align: right;\">\n",
       "      <th></th>\n",
       "      <th>InvoiceNo</th>\n",
       "      <th>StockCode</th>\n",
       "      <th>Description</th>\n",
       "      <th>Quantity</th>\n",
       "      <th>InvoiceDate</th>\n",
       "      <th>UnitPrice</th>\n",
       "      <th>CustomerID</th>\n",
       "      <th>Country</th>\n",
       "    </tr>\n",
       "  </thead>\n",
       "  <tbody>\n",
       "    <tr>\n",
       "      <th>0</th>\n",
       "      <td>536365</td>\n",
       "      <td>85123A</td>\n",
       "      <td>WHITE HANGING HEART T-LIGHT HOLDER</td>\n",
       "      <td>6</td>\n",
       "      <td>12/1/10 8:26</td>\n",
       "      <td>2.55</td>\n",
       "      <td>17850.0</td>\n",
       "      <td>United Kingdom</td>\n",
       "    </tr>\n",
       "    <tr>\n",
       "      <th>1</th>\n",
       "      <td>536365</td>\n",
       "      <td>71053</td>\n",
       "      <td>WHITE METAL LANTERN</td>\n",
       "      <td>6</td>\n",
       "      <td>12/1/10 8:26</td>\n",
       "      <td>3.39</td>\n",
       "      <td>17850.0</td>\n",
       "      <td>United Kingdom</td>\n",
       "    </tr>\n",
       "    <tr>\n",
       "      <th>2</th>\n",
       "      <td>536365</td>\n",
       "      <td>84406B</td>\n",
       "      <td>CREAM CUPID HEARTS COAT HANGER</td>\n",
       "      <td>8</td>\n",
       "      <td>12/1/10 8:26</td>\n",
       "      <td>2.75</td>\n",
       "      <td>17850.0</td>\n",
       "      <td>United Kingdom</td>\n",
       "    </tr>\n",
       "    <tr>\n",
       "      <th>3</th>\n",
       "      <td>536365</td>\n",
       "      <td>84029G</td>\n",
       "      <td>KNITTED UNION FLAG HOT WATER BOTTLE</td>\n",
       "      <td>6</td>\n",
       "      <td>12/1/10 8:26</td>\n",
       "      <td>3.39</td>\n",
       "      <td>17850.0</td>\n",
       "      <td>United Kingdom</td>\n",
       "    </tr>\n",
       "    <tr>\n",
       "      <th>4</th>\n",
       "      <td>536365</td>\n",
       "      <td>84029E</td>\n",
       "      <td>RED WOOLLY HOTTIE WHITE HEART.</td>\n",
       "      <td>6</td>\n",
       "      <td>12/1/10 8:26</td>\n",
       "      <td>3.39</td>\n",
       "      <td>17850.0</td>\n",
       "      <td>United Kingdom</td>\n",
       "    </tr>\n",
       "    <tr>\n",
       "      <th>...</th>\n",
       "      <td>...</td>\n",
       "      <td>...</td>\n",
       "      <td>...</td>\n",
       "      <td>...</td>\n",
       "      <td>...</td>\n",
       "      <td>...</td>\n",
       "      <td>...</td>\n",
       "      <td>...</td>\n",
       "    </tr>\n",
       "    <tr>\n",
       "      <th>541904</th>\n",
       "      <td>581587</td>\n",
       "      <td>22613</td>\n",
       "      <td>PACK OF 20 SPACEBOY NAPKINS</td>\n",
       "      <td>12</td>\n",
       "      <td>12/9/11 12:50</td>\n",
       "      <td>0.85</td>\n",
       "      <td>12680.0</td>\n",
       "      <td>France</td>\n",
       "    </tr>\n",
       "    <tr>\n",
       "      <th>541905</th>\n",
       "      <td>581587</td>\n",
       "      <td>22899</td>\n",
       "      <td>CHILDREN'S APRON DOLLY GIRL</td>\n",
       "      <td>6</td>\n",
       "      <td>12/9/11 12:50</td>\n",
       "      <td>2.10</td>\n",
       "      <td>12680.0</td>\n",
       "      <td>France</td>\n",
       "    </tr>\n",
       "    <tr>\n",
       "      <th>541906</th>\n",
       "      <td>581587</td>\n",
       "      <td>23254</td>\n",
       "      <td>CHILDRENS CUTLERY DOLLY GIRL</td>\n",
       "      <td>4</td>\n",
       "      <td>12/9/11 12:50</td>\n",
       "      <td>4.15</td>\n",
       "      <td>12680.0</td>\n",
       "      <td>France</td>\n",
       "    </tr>\n",
       "    <tr>\n",
       "      <th>541907</th>\n",
       "      <td>581587</td>\n",
       "      <td>23255</td>\n",
       "      <td>CHILDRENS CUTLERY CIRCUS PARADE</td>\n",
       "      <td>4</td>\n",
       "      <td>12/9/11 12:50</td>\n",
       "      <td>4.15</td>\n",
       "      <td>12680.0</td>\n",
       "      <td>France</td>\n",
       "    </tr>\n",
       "    <tr>\n",
       "      <th>541908</th>\n",
       "      <td>581587</td>\n",
       "      <td>22138</td>\n",
       "      <td>BAKING SET 9 PIECE RETROSPOT</td>\n",
       "      <td>3</td>\n",
       "      <td>12/9/11 12:50</td>\n",
       "      <td>4.95</td>\n",
       "      <td>12680.0</td>\n",
       "      <td>France</td>\n",
       "    </tr>\n",
       "  </tbody>\n",
       "</table>\n",
       "<p>541909 rows × 8 columns</p>\n",
       "</div>"
      ],
      "text/plain": [
       "       InvoiceNo StockCode                          Description  Quantity  \\\n",
       "0         536365    85123A   WHITE HANGING HEART T-LIGHT HOLDER         6   \n",
       "1         536365     71053                  WHITE METAL LANTERN         6   \n",
       "2         536365    84406B       CREAM CUPID HEARTS COAT HANGER         8   \n",
       "3         536365    84029G  KNITTED UNION FLAG HOT WATER BOTTLE         6   \n",
       "4         536365    84029E       RED WOOLLY HOTTIE WHITE HEART.         6   \n",
       "...          ...       ...                                  ...       ...   \n",
       "541904    581587     22613          PACK OF 20 SPACEBOY NAPKINS        12   \n",
       "541905    581587     22899         CHILDREN'S APRON DOLLY GIRL          6   \n",
       "541906    581587     23254        CHILDRENS CUTLERY DOLLY GIRL          4   \n",
       "541907    581587     23255      CHILDRENS CUTLERY CIRCUS PARADE         4   \n",
       "541908    581587     22138        BAKING SET 9 PIECE RETROSPOT          3   \n",
       "\n",
       "          InvoiceDate  UnitPrice  CustomerID         Country  \n",
       "0        12/1/10 8:26       2.55     17850.0  United Kingdom  \n",
       "1        12/1/10 8:26       3.39     17850.0  United Kingdom  \n",
       "2        12/1/10 8:26       2.75     17850.0  United Kingdom  \n",
       "3        12/1/10 8:26       3.39     17850.0  United Kingdom  \n",
       "4        12/1/10 8:26       3.39     17850.0  United Kingdom  \n",
       "...               ...        ...         ...             ...  \n",
       "541904  12/9/11 12:50       0.85     12680.0          France  \n",
       "541905  12/9/11 12:50       2.10     12680.0          France  \n",
       "541906  12/9/11 12:50       4.15     12680.0          France  \n",
       "541907  12/9/11 12:50       4.15     12680.0          France  \n",
       "541908  12/9/11 12:50       4.95     12680.0          France  \n",
       "\n",
       "[541909 rows x 8 columns]"
      ]
     },
     "execution_count": 5,
     "metadata": {},
     "output_type": "execute_result"
    }
   ],
   "source": [
    "df"
   ]
  },
  {
   "cell_type": "markdown",
   "id": "1c423a3f",
   "metadata": {},
   "source": [
    "Invoice: Invoice number. If this number starts with ‘C’, it means this transaction is cancelled.\n",
    " \n",
    " \n",
    "StockCode: Product code\n",
    "\n",
    "\n",
    "Description: Product Name\n",
    "\n",
    "\n",
    "Quantity: Product counts\n",
    "\n",
    "\n",
    "InvoiceDate: Transaction date\n",
    "\n",
    "\n",
    "Price: A single product price\n",
    "\n",
    "\n",
    "CustomerID: Unique customer number\n",
    "\n",
    "\n",
    "Country: Customer’s country name"
   ]
  },
  {
   "cell_type": "code",
   "execution_count": 6,
   "id": "def59740",
   "metadata": {},
   "outputs": [
    {
     "data": {
      "text/plain": [
       "InvoiceNo           0\n",
       "StockCode           0\n",
       "Description      1454\n",
       "Quantity            0\n",
       "InvoiceDate         0\n",
       "UnitPrice           0\n",
       "CustomerID     135080\n",
       "Country             0\n",
       "dtype: int64"
      ]
     },
     "execution_count": 6,
     "metadata": {},
     "output_type": "execute_result"
    }
   ],
   "source": [
    "df.isnull().sum()"
   ]
  },
  {
   "cell_type": "markdown",
   "id": "14e5cc4e",
   "metadata": {},
   "source": [
    "### EDA"
   ]
  },
  {
   "cell_type": "code",
   "execution_count": 7,
   "id": "60663150",
   "metadata": {},
   "outputs": [],
   "source": [
    "df.dropna(inplace=True)\n",
    "df = df[~df[\"InvoiceNo\"].str.contains(\"C\", na=False)]\n",
    "df = df[df[\"Quantity\"] > 0]\n",
    "df['TotalPrice'] = df['UnitPrice'] * df['Quantity']"
   ]
  },
  {
   "cell_type": "markdown",
   "id": "59f327bf",
   "metadata": {},
   "source": [
    "choose data which Invoice column doesn’t start with ‘C’. Because if it starts with ‘C’, it means this is a cancelled transaction. And then I’ll filter the Quantity column and I’ll calculate TotalPrice for each"
   ]
  },
  {
   "cell_type": "code",
   "execution_count": 8,
   "id": "29123841",
   "metadata": {},
   "outputs": [
    {
     "data": {
      "text/html": [
       "<div>\n",
       "<style scoped>\n",
       "    .dataframe tbody tr th:only-of-type {\n",
       "        vertical-align: middle;\n",
       "    }\n",
       "\n",
       "    .dataframe tbody tr th {\n",
       "        vertical-align: top;\n",
       "    }\n",
       "\n",
       "    .dataframe thead th {\n",
       "        text-align: right;\n",
       "    }\n",
       "</style>\n",
       "<table border=\"1\" class=\"dataframe\">\n",
       "  <thead>\n",
       "    <tr style=\"text-align: right;\">\n",
       "      <th></th>\n",
       "      <th>InvoiceNo</th>\n",
       "      <th>StockCode</th>\n",
       "      <th>Description</th>\n",
       "      <th>Quantity</th>\n",
       "      <th>InvoiceDate</th>\n",
       "      <th>UnitPrice</th>\n",
       "      <th>CustomerID</th>\n",
       "      <th>Country</th>\n",
       "      <th>TotalPrice</th>\n",
       "    </tr>\n",
       "  </thead>\n",
       "  <tbody>\n",
       "    <tr>\n",
       "      <th>0</th>\n",
       "      <td>536365</td>\n",
       "      <td>85123A</td>\n",
       "      <td>WHITE HANGING HEART T-LIGHT HOLDER</td>\n",
       "      <td>6</td>\n",
       "      <td>12/1/10 8:26</td>\n",
       "      <td>2.55</td>\n",
       "      <td>17850.0</td>\n",
       "      <td>United Kingdom</td>\n",
       "      <td>15.30</td>\n",
       "    </tr>\n",
       "    <tr>\n",
       "      <th>1</th>\n",
       "      <td>536365</td>\n",
       "      <td>71053</td>\n",
       "      <td>WHITE METAL LANTERN</td>\n",
       "      <td>6</td>\n",
       "      <td>12/1/10 8:26</td>\n",
       "      <td>3.39</td>\n",
       "      <td>17850.0</td>\n",
       "      <td>United Kingdom</td>\n",
       "      <td>20.34</td>\n",
       "    </tr>\n",
       "    <tr>\n",
       "      <th>2</th>\n",
       "      <td>536365</td>\n",
       "      <td>84406B</td>\n",
       "      <td>CREAM CUPID HEARTS COAT HANGER</td>\n",
       "      <td>8</td>\n",
       "      <td>12/1/10 8:26</td>\n",
       "      <td>2.75</td>\n",
       "      <td>17850.0</td>\n",
       "      <td>United Kingdom</td>\n",
       "      <td>22.00</td>\n",
       "    </tr>\n",
       "    <tr>\n",
       "      <th>3</th>\n",
       "      <td>536365</td>\n",
       "      <td>84029G</td>\n",
       "      <td>KNITTED UNION FLAG HOT WATER BOTTLE</td>\n",
       "      <td>6</td>\n",
       "      <td>12/1/10 8:26</td>\n",
       "      <td>3.39</td>\n",
       "      <td>17850.0</td>\n",
       "      <td>United Kingdom</td>\n",
       "      <td>20.34</td>\n",
       "    </tr>\n",
       "    <tr>\n",
       "      <th>4</th>\n",
       "      <td>536365</td>\n",
       "      <td>84029E</td>\n",
       "      <td>RED WOOLLY HOTTIE WHITE HEART.</td>\n",
       "      <td>6</td>\n",
       "      <td>12/1/10 8:26</td>\n",
       "      <td>3.39</td>\n",
       "      <td>17850.0</td>\n",
       "      <td>United Kingdom</td>\n",
       "      <td>20.34</td>\n",
       "    </tr>\n",
       "    <tr>\n",
       "      <th>...</th>\n",
       "      <td>...</td>\n",
       "      <td>...</td>\n",
       "      <td>...</td>\n",
       "      <td>...</td>\n",
       "      <td>...</td>\n",
       "      <td>...</td>\n",
       "      <td>...</td>\n",
       "      <td>...</td>\n",
       "      <td>...</td>\n",
       "    </tr>\n",
       "    <tr>\n",
       "      <th>541904</th>\n",
       "      <td>581587</td>\n",
       "      <td>22613</td>\n",
       "      <td>PACK OF 20 SPACEBOY NAPKINS</td>\n",
       "      <td>12</td>\n",
       "      <td>12/9/11 12:50</td>\n",
       "      <td>0.85</td>\n",
       "      <td>12680.0</td>\n",
       "      <td>France</td>\n",
       "      <td>10.20</td>\n",
       "    </tr>\n",
       "    <tr>\n",
       "      <th>541905</th>\n",
       "      <td>581587</td>\n",
       "      <td>22899</td>\n",
       "      <td>CHILDREN'S APRON DOLLY GIRL</td>\n",
       "      <td>6</td>\n",
       "      <td>12/9/11 12:50</td>\n",
       "      <td>2.10</td>\n",
       "      <td>12680.0</td>\n",
       "      <td>France</td>\n",
       "      <td>12.60</td>\n",
       "    </tr>\n",
       "    <tr>\n",
       "      <th>541906</th>\n",
       "      <td>581587</td>\n",
       "      <td>23254</td>\n",
       "      <td>CHILDRENS CUTLERY DOLLY GIRL</td>\n",
       "      <td>4</td>\n",
       "      <td>12/9/11 12:50</td>\n",
       "      <td>4.15</td>\n",
       "      <td>12680.0</td>\n",
       "      <td>France</td>\n",
       "      <td>16.60</td>\n",
       "    </tr>\n",
       "    <tr>\n",
       "      <th>541907</th>\n",
       "      <td>581587</td>\n",
       "      <td>23255</td>\n",
       "      <td>CHILDRENS CUTLERY CIRCUS PARADE</td>\n",
       "      <td>4</td>\n",
       "      <td>12/9/11 12:50</td>\n",
       "      <td>4.15</td>\n",
       "      <td>12680.0</td>\n",
       "      <td>France</td>\n",
       "      <td>16.60</td>\n",
       "    </tr>\n",
       "    <tr>\n",
       "      <th>541908</th>\n",
       "      <td>581587</td>\n",
       "      <td>22138</td>\n",
       "      <td>BAKING SET 9 PIECE RETROSPOT</td>\n",
       "      <td>3</td>\n",
       "      <td>12/9/11 12:50</td>\n",
       "      <td>4.95</td>\n",
       "      <td>12680.0</td>\n",
       "      <td>France</td>\n",
       "      <td>14.85</td>\n",
       "    </tr>\n",
       "  </tbody>\n",
       "</table>\n",
       "<p>397924 rows × 9 columns</p>\n",
       "</div>"
      ],
      "text/plain": [
       "       InvoiceNo StockCode                          Description  Quantity  \\\n",
       "0         536365    85123A   WHITE HANGING HEART T-LIGHT HOLDER         6   \n",
       "1         536365     71053                  WHITE METAL LANTERN         6   \n",
       "2         536365    84406B       CREAM CUPID HEARTS COAT HANGER         8   \n",
       "3         536365    84029G  KNITTED UNION FLAG HOT WATER BOTTLE         6   \n",
       "4         536365    84029E       RED WOOLLY HOTTIE WHITE HEART.         6   \n",
       "...          ...       ...                                  ...       ...   \n",
       "541904    581587     22613          PACK OF 20 SPACEBOY NAPKINS        12   \n",
       "541905    581587     22899         CHILDREN'S APRON DOLLY GIRL          6   \n",
       "541906    581587     23254        CHILDRENS CUTLERY DOLLY GIRL          4   \n",
       "541907    581587     23255      CHILDRENS CUTLERY CIRCUS PARADE         4   \n",
       "541908    581587     22138        BAKING SET 9 PIECE RETROSPOT          3   \n",
       "\n",
       "          InvoiceDate  UnitPrice  CustomerID         Country  TotalPrice  \n",
       "0        12/1/10 8:26       2.55     17850.0  United Kingdom       15.30  \n",
       "1        12/1/10 8:26       3.39     17850.0  United Kingdom       20.34  \n",
       "2        12/1/10 8:26       2.75     17850.0  United Kingdom       22.00  \n",
       "3        12/1/10 8:26       3.39     17850.0  United Kingdom       20.34  \n",
       "4        12/1/10 8:26       3.39     17850.0  United Kingdom       20.34  \n",
       "...               ...        ...         ...             ...         ...  \n",
       "541904  12/9/11 12:50       0.85     12680.0          France       10.20  \n",
       "541905  12/9/11 12:50       2.10     12680.0          France       12.60  \n",
       "541906  12/9/11 12:50       4.15     12680.0          France       16.60  \n",
       "541907  12/9/11 12:50       4.15     12680.0          France       16.60  \n",
       "541908  12/9/11 12:50       4.95     12680.0          France       14.85  \n",
       "\n",
       "[397924 rows x 9 columns]"
      ]
     },
     "execution_count": 8,
     "metadata": {},
     "output_type": "execute_result"
    }
   ],
   "source": [
    "df"
   ]
  },
  {
   "cell_type": "code",
   "execution_count": 9,
   "id": "edc3b119",
   "metadata": {},
   "outputs": [
    {
     "data": {
      "text/plain": [
       "(397924, 9)"
      ]
     },
     "execution_count": 9,
     "metadata": {},
     "output_type": "execute_result"
    }
   ],
   "source": [
    "df.shape"
   ]
  },
  {
   "cell_type": "code",
   "execution_count": 10,
   "id": "3d87e5e2",
   "metadata": {},
   "outputs": [
    {
     "data": {
      "text/plain": [
       "InvoiceNo      0\n",
       "StockCode      0\n",
       "Description    0\n",
       "Quantity       0\n",
       "InvoiceDate    0\n",
       "UnitPrice      0\n",
       "CustomerID     0\n",
       "Country        0\n",
       "TotalPrice     0\n",
       "dtype: int64"
      ]
     },
     "execution_count": 10,
     "metadata": {},
     "output_type": "execute_result"
    }
   ],
   "source": [
    "df.isnull().sum()"
   ]
  },
  {
   "cell_type": "code",
   "execution_count": 11,
   "id": "0483dcf1",
   "metadata": {},
   "outputs": [
    {
     "data": {
      "text/plain": [
       "Index(['InvoiceNo', 'StockCode', 'Description', 'Quantity', 'InvoiceDate',\n",
       "       'UnitPrice', 'CustomerID', 'Country', 'TotalPrice'],\n",
       "      dtype='object')"
      ]
     },
     "execution_count": 11,
     "metadata": {},
     "output_type": "execute_result"
    }
   ],
   "source": [
    "df.columns"
   ]
  },
  {
   "cell_type": "code",
   "execution_count": 12,
   "id": "2234ca02",
   "metadata": {},
   "outputs": [
    {
     "data": {
      "text/html": [
       "<div>\n",
       "<style scoped>\n",
       "    .dataframe tbody tr th:only-of-type {\n",
       "        vertical-align: middle;\n",
       "    }\n",
       "\n",
       "    .dataframe tbody tr th {\n",
       "        vertical-align: top;\n",
       "    }\n",
       "\n",
       "    .dataframe thead th {\n",
       "        text-align: right;\n",
       "    }\n",
       "</style>\n",
       "<table border=\"1\" class=\"dataframe\">\n",
       "  <thead>\n",
       "    <tr style=\"text-align: right;\">\n",
       "      <th></th>\n",
       "      <th>Quantity</th>\n",
       "      <th>UnitPrice</th>\n",
       "      <th>CustomerID</th>\n",
       "      <th>TotalPrice</th>\n",
       "    </tr>\n",
       "  </thead>\n",
       "  <tbody>\n",
       "    <tr>\n",
       "      <th>count</th>\n",
       "      <td>397924.000000</td>\n",
       "      <td>397924.000000</td>\n",
       "      <td>397924.000000</td>\n",
       "      <td>397924.000000</td>\n",
       "    </tr>\n",
       "    <tr>\n",
       "      <th>mean</th>\n",
       "      <td>13.021823</td>\n",
       "      <td>3.116174</td>\n",
       "      <td>15294.315171</td>\n",
       "      <td>22.394749</td>\n",
       "    </tr>\n",
       "    <tr>\n",
       "      <th>std</th>\n",
       "      <td>180.420210</td>\n",
       "      <td>22.096788</td>\n",
       "      <td>1713.169877</td>\n",
       "      <td>309.055588</td>\n",
       "    </tr>\n",
       "    <tr>\n",
       "      <th>min</th>\n",
       "      <td>1.000000</td>\n",
       "      <td>0.000000</td>\n",
       "      <td>12346.000000</td>\n",
       "      <td>0.000000</td>\n",
       "    </tr>\n",
       "    <tr>\n",
       "      <th>25%</th>\n",
       "      <td>2.000000</td>\n",
       "      <td>1.250000</td>\n",
       "      <td>13969.000000</td>\n",
       "      <td>4.680000</td>\n",
       "    </tr>\n",
       "    <tr>\n",
       "      <th>50%</th>\n",
       "      <td>6.000000</td>\n",
       "      <td>1.950000</td>\n",
       "      <td>15159.000000</td>\n",
       "      <td>11.800000</td>\n",
       "    </tr>\n",
       "    <tr>\n",
       "      <th>75%</th>\n",
       "      <td>12.000000</td>\n",
       "      <td>3.750000</td>\n",
       "      <td>16795.000000</td>\n",
       "      <td>19.800000</td>\n",
       "    </tr>\n",
       "    <tr>\n",
       "      <th>max</th>\n",
       "      <td>80995.000000</td>\n",
       "      <td>8142.750000</td>\n",
       "      <td>18287.000000</td>\n",
       "      <td>168469.600000</td>\n",
       "    </tr>\n",
       "  </tbody>\n",
       "</table>\n",
       "</div>"
      ],
      "text/plain": [
       "            Quantity      UnitPrice     CustomerID     TotalPrice\n",
       "count  397924.000000  397924.000000  397924.000000  397924.000000\n",
       "mean       13.021823       3.116174   15294.315171      22.394749\n",
       "std       180.420210      22.096788    1713.169877     309.055588\n",
       "min         1.000000       0.000000   12346.000000       0.000000\n",
       "25%         2.000000       1.250000   13969.000000       4.680000\n",
       "50%         6.000000       1.950000   15159.000000      11.800000\n",
       "75%        12.000000       3.750000   16795.000000      19.800000\n",
       "max     80995.000000    8142.750000   18287.000000  168469.600000"
      ]
     },
     "execution_count": 12,
     "metadata": {},
     "output_type": "execute_result"
    }
   ],
   "source": [
    "df.describe()"
   ]
  },
  {
   "cell_type": "code",
   "execution_count": 13,
   "id": "343bba18",
   "metadata": {},
   "outputs": [
    {
     "data": {
      "text/plain": [
       "United Kingdom          354345\n",
       "Germany                   9042\n",
       "France                    8342\n",
       "EIRE                      7238\n",
       "Spain                     2485\n",
       "Netherlands               2363\n",
       "Belgium                   2031\n",
       "Switzerland               1842\n",
       "Portugal                  1462\n",
       "Australia                 1185\n",
       "Norway                    1072\n",
       "Italy                      758\n",
       "Channel Islands            748\n",
       "Finland                    685\n",
       "Cyprus                     614\n",
       "Sweden                     451\n",
       "Austria                    398\n",
       "Denmark                    380\n",
       "Poland                     330\n",
       "Japan                      321\n",
       "Israel                     248\n",
       "Unspecified                244\n",
       "Singapore                  222\n",
       "Iceland                    182\n",
       "USA                        179\n",
       "Canada                     151\n",
       "Greece                     145\n",
       "Malta                      112\n",
       "United Arab Emirates        68\n",
       "European Community          60\n",
       "RSA                         58\n",
       "Lebanon                     45\n",
       "Lithuania                   35\n",
       "Brazil                      32\n",
       "Czech Republic              25\n",
       "Bahrain                     17\n",
       "Saudi Arabia                 9\n",
       "Name: Country, dtype: int64"
      ]
     },
     "execution_count": 13,
     "metadata": {},
     "output_type": "execute_result"
    }
   ],
   "source": [
    "df['Country'].value_counts()"
   ]
  },
  {
   "cell_type": "code",
   "execution_count": 14,
   "id": "395ad3c1",
   "metadata": {},
   "outputs": [],
   "source": [
    "# remove duplicate rows\n",
    "df = df.drop_duplicates()"
   ]
  },
  {
   "cell_type": "code",
   "execution_count": 15,
   "id": "0d8177ee",
   "metadata": {},
   "outputs": [
    {
     "data": {
      "text/plain": [
       "Index(['InvoiceNo', 'StockCode', 'Description', 'Quantity', 'InvoiceDate',\n",
       "       'UnitPrice', 'CustomerID', 'Country', 'TotalPrice'],\n",
       "      dtype='object')"
      ]
     },
     "execution_count": 15,
     "metadata": {},
     "output_type": "execute_result"
    }
   ],
   "source": [
    "# remove duplicate rows\n",
    "df.columns"
   ]
  },
  {
   "cell_type": "code",
   "execution_count": 16,
   "id": "d381fdf9",
   "metadata": {},
   "outputs": [
    {
     "data": {
      "text/plain": [
       "<AxesSubplot:>"
      ]
     },
     "execution_count": 16,
     "metadata": {},
     "output_type": "execute_result"
    },
    {
     "data": {
      "image/png": "[encoded data removed]",
      "text/plain": [
       "<Figure size 432x288 with 1 Axes>"
      ]
     },
     "metadata": {
      "needs_background": "light"
     },
     "output_type": "display_data"
    }
   ],
   "source": [
    "# Plot the bar chart of countries\n",
    "df.Country.value_counts()[:10].plot(kind='bar')"
   ]
  },
  {
   "cell_type": "code",
   "execution_count": 17,
   "id": "02ec8f63",
   "metadata": {},
   "outputs": [
    {
     "data": {
      "text/plain": [
       "0   2010-12-01 08:26:00\n",
       "1   2010-12-01 08:26:00\n",
       "2   2010-12-01 08:26:00\n",
       "3   2010-12-01 08:26:00\n",
       "4   2010-12-01 08:26:00\n",
       "Name: InvoiceDate, dtype: datetime64[ns]"
      ]
     },
     "execution_count": 17,
     "metadata": {},
     "output_type": "execute_result"
    }
   ],
   "source": [
    "df['InvoiceDate'] = df['InvoiceDate'].astype('datetime64[ns]')\n",
    "df['InvoiceDate'].head()"
   ]
  },
  {
   "cell_type": "code",
   "execution_count": 18,
   "id": "c07b85f7",
   "metadata": {},
   "outputs": [
    {
     "name": "stdout",
     "output_type": "stream",
     "text": [
      "2010-12-01 08:26:00\n",
      "2011-12-09 12:50:00\n"
     ]
    }
   ],
   "source": [
    "print(df['InvoiceDate'].min())\n",
    "print(df['InvoiceDate'].max())"
   ]
  },
  {
   "cell_type": "markdown",
   "id": "e85e1cc2",
   "metadata": {},
   "source": [
    "### Feature aggregation\n",
    "\n",
    "The lifetime package is based on transaction data only. For each customer, aggregate:\n",
    "\n",
    "-recency: days between first and last purchase in the given period.\n",
    "\n",
    "-frequency: number of repeated purchase in the given period, it's the count of days the customer had a repeated purchase on.\n",
    "\n",
    "-T: customer age, days since first purchase.\n",
    "\n",
    "-monetary_value: transaction value in the given period."
   ]
  },
  {
   "cell_type": "code",
   "execution_count": 19,
   "id": "03e4506c",
   "metadata": {},
   "outputs": [],
   "source": [
    "df['amt'] = df['Quantity'] * df['UnitPrice']\n",
    "df['InvoiceDate'] = pd.to_datetime(df['InvoiceDate']).dt.date"
   ]
  },
  {
   "cell_type": "code",
   "execution_count": 20,
   "id": "a530b22f",
   "metadata": {},
   "outputs": [],
   "source": [
    "cust = df.groupby(['CustomerID']).agg({\n",
    "    'InvoiceNo': 'count',\n",
    "    'amt': 'sum'\n",
    "}).reset_index()"
   ]
  },
  {
   "cell_type": "code",
   "execution_count": 21,
   "id": "b49b591d",
   "metadata": {},
   "outputs": [
    {
     "data": {
      "text/html": [
       "<div>\n",
       "<style scoped>\n",
       "    .dataframe tbody tr th:only-of-type {\n",
       "        vertical-align: middle;\n",
       "    }\n",
       "\n",
       "    .dataframe tbody tr th {\n",
       "        vertical-align: top;\n",
       "    }\n",
       "\n",
       "    .dataframe thead th {\n",
       "        text-align: right;\n",
       "    }\n",
       "</style>\n",
       "<table border=\"1\" class=\"dataframe\">\n",
       "  <thead>\n",
       "    <tr style=\"text-align: right;\">\n",
       "      <th></th>\n",
       "      <th>CustomerID</th>\n",
       "      <th>InvoiceNo</th>\n",
       "      <th>amt</th>\n",
       "    </tr>\n",
       "  </thead>\n",
       "  <tbody>\n",
       "    <tr>\n",
       "      <th>count</th>\n",
       "      <td>4339.000000</td>\n",
       "      <td>4339.000000</td>\n",
       "      <td>4339.000000</td>\n",
       "    </tr>\n",
       "    <tr>\n",
       "      <th>mean</th>\n",
       "      <td>15299.936852</td>\n",
       "      <td>90.512100</td>\n",
       "      <td>2048.215924</td>\n",
       "    </tr>\n",
       "    <tr>\n",
       "      <th>std</th>\n",
       "      <td>1721.889758</td>\n",
       "      <td>225.515328</td>\n",
       "      <td>8984.248352</td>\n",
       "    </tr>\n",
       "    <tr>\n",
       "      <th>min</th>\n",
       "      <td>12346.000000</td>\n",
       "      <td>1.000000</td>\n",
       "      <td>0.000000</td>\n",
       "    </tr>\n",
       "    <tr>\n",
       "      <th>25%</th>\n",
       "      <td>13812.500000</td>\n",
       "      <td>17.000000</td>\n",
       "      <td>306.455000</td>\n",
       "    </tr>\n",
       "    <tr>\n",
       "      <th>50%</th>\n",
       "      <td>15299.000000</td>\n",
       "      <td>41.000000</td>\n",
       "      <td>668.560000</td>\n",
       "    </tr>\n",
       "    <tr>\n",
       "      <th>75%</th>\n",
       "      <td>16778.500000</td>\n",
       "      <td>98.000000</td>\n",
       "      <td>1660.315000</td>\n",
       "    </tr>\n",
       "    <tr>\n",
       "      <th>max</th>\n",
       "      <td>18287.000000</td>\n",
       "      <td>7676.000000</td>\n",
       "      <td>280206.020000</td>\n",
       "    </tr>\n",
       "  </tbody>\n",
       "</table>\n",
       "</div>"
      ],
      "text/plain": [
       "         CustomerID    InvoiceNo            amt\n",
       "count   4339.000000  4339.000000    4339.000000\n",
       "mean   15299.936852    90.512100    2048.215924\n",
       "std     1721.889758   225.515328    8984.248352\n",
       "min    12346.000000     1.000000       0.000000\n",
       "25%    13812.500000    17.000000     306.455000\n",
       "50%    15299.000000    41.000000     668.560000\n",
       "75%    16778.500000    98.000000    1660.315000\n",
       "max    18287.000000  7676.000000  280206.020000"
      ]
     },
     "execution_count": 21,
     "metadata": {},
     "output_type": "execute_result"
    }
   ],
   "source": [
    "cust.describe()"
   ]
  },
  {
   "cell_type": "code",
   "execution_count": 165,
   "id": "d0335dd2",
   "metadata": {},
   "outputs": [
    {
     "data": {
      "text/html": [
       "<div>\n",
       "<style scoped>\n",
       "    .dataframe tbody tr th:only-of-type {\n",
       "        vertical-align: middle;\n",
       "    }\n",
       "\n",
       "    .dataframe tbody tr th {\n",
       "        vertical-align: top;\n",
       "    }\n",
       "\n",
       "    .dataframe thead th {\n",
       "        text-align: right;\n",
       "    }\n",
       "</style>\n",
       "<table border=\"1\" class=\"dataframe\">\n",
       "  <thead>\n",
       "    <tr style=\"text-align: right;\">\n",
       "      <th></th>\n",
       "      <th>frequency</th>\n",
       "      <th>recency</th>\n",
       "      <th>T</th>\n",
       "      <th>monetary_value</th>\n",
       "    </tr>\n",
       "    <tr>\n",
       "      <th>CustomerID</th>\n",
       "      <th></th>\n",
       "      <th></th>\n",
       "      <th></th>\n",
       "      <th></th>\n",
       "    </tr>\n",
       "  </thead>\n",
       "  <tbody>\n",
       "    <tr>\n",
       "      <th>12346.0</th>\n",
       "      <td>0.0</td>\n",
       "      <td>0.0</td>\n",
       "      <td>325.0</td>\n",
       "      <td>0.000000</td>\n",
       "    </tr>\n",
       "    <tr>\n",
       "      <th>12347.0</th>\n",
       "      <td>6.0</td>\n",
       "      <td>365.0</td>\n",
       "      <td>367.0</td>\n",
       "      <td>599.701667</td>\n",
       "    </tr>\n",
       "    <tr>\n",
       "      <th>12348.0</th>\n",
       "      <td>3.0</td>\n",
       "      <td>283.0</td>\n",
       "      <td>358.0</td>\n",
       "      <td>301.480000</td>\n",
       "    </tr>\n",
       "    <tr>\n",
       "      <th>12349.0</th>\n",
       "      <td>0.0</td>\n",
       "      <td>0.0</td>\n",
       "      <td>18.0</td>\n",
       "      <td>0.000000</td>\n",
       "    </tr>\n",
       "    <tr>\n",
       "      <th>12350.0</th>\n",
       "      <td>0.0</td>\n",
       "      <td>0.0</td>\n",
       "      <td>310.0</td>\n",
       "      <td>0.000000</td>\n",
       "    </tr>\n",
       "  </tbody>\n",
       "</table>\n",
       "</div>"
      ],
      "text/plain": [
       "            frequency  recency      T  monetary_value\n",
       "CustomerID                                           \n",
       "12346.0           0.0      0.0  325.0        0.000000\n",
       "12347.0           6.0    365.0  367.0      599.701667\n",
       "12348.0           3.0    283.0  358.0      301.480000\n",
       "12349.0           0.0      0.0   18.0        0.000000\n",
       "12350.0           0.0      0.0  310.0        0.000000"
      ]
     },
     "execution_count": 165,
     "metadata": {},
     "output_type": "execute_result"
    }
   ],
   "source": [
    "from lifetimes.plotting import *\n",
    "from lifetimes.utils import *\n",
    "\n",
    "modeldata = summary_data_from_transaction_data(df, 'CustomerID', 'InvoiceDate', \n",
    "                                               monetary_value_col='amt', \n",
    "                                               observation_period_end='2011-12-9')\n",
    "\n",
    "modeldata.head()"
   ]
  },
  {
   "cell_type": "code",
   "execution_count": 181,
   "id": "d8d51e03",
   "metadata": {},
   "outputs": [],
   "source": [
    "modeldata_base = modeldata;"
   ]
  },
  {
   "cell_type": "code",
   "execution_count": 195,
   "id": "2e2d4194",
   "metadata": {},
   "outputs": [
    {
     "name": "stdout",
     "output_type": "stream",
     "text": [
      "count    4339.000000\n",
      "mean        2.864024\n",
      "std         5.952745\n",
      "min         0.000000\n",
      "25%         0.000000\n",
      "50%         1.000000\n",
      "75%         3.000000\n",
      "max       131.000000\n",
      "Name: frequency, dtype: float64\n",
      "0.3569946992394561\n"
     ]
    },
    {
     "data": {
      "image/png": "[encoded data removed]",
      "text/plain": [
       "<Figure size 432x288 with 1 Axes>"
      ]
     },
     "metadata": {
      "needs_background": "light"
     },
     "output_type": "display_data"
    }
   ],
   "source": [
    "modeldata['frequency'].plot(kind='hist', bins=50) \n",
    "print(modeldata['frequency'].describe())\n",
    "# frequency=0 means no repeated purchase. 35.7% customers left after one purchase.\n",
    "print(sum(modeldata['frequency'] == 0)/float(len(modeldata)))"
   ]
  },
  {
   "cell_type": "code",
   "execution_count": 196,
   "id": "bd04803d",
   "metadata": {},
   "outputs": [],
   "source": [
    "modeldata = modeldata[modeldata['monetary_value'] > 0]\n",
    "modeldata['monetary_value'] = modeldata['monetary_value'] / modeldata['frequency']"
   ]
  },
  {
   "cell_type": "code",
   "execution_count": 197,
   "id": "806c112d",
   "metadata": {},
   "outputs": [],
   "source": [
    "# transforming days to weeks\n",
    "modeldata['recency'] = modeldata['recency'] / 7\n",
    "modeldata['T'] = modeldata['T'] / 7"
   ]
  },
  {
   "cell_type": "code",
   "execution_count": 198,
   "id": "4f81624e",
   "metadata": {},
   "outputs": [],
   "source": [
    "modeldata = modeldata[(modeldata['frequency'] > 1)]"
   ]
  },
  {
   "cell_type": "code",
   "execution_count": 199,
   "id": "d956e73a",
   "metadata": {},
   "outputs": [
    {
     "data": {
      "text/html": [
       "<div>\n",
       "<style scoped>\n",
       "    .dataframe tbody tr th:only-of-type {\n",
       "        vertical-align: middle;\n",
       "    }\n",
       "\n",
       "    .dataframe tbody tr th {\n",
       "        vertical-align: top;\n",
       "    }\n",
       "\n",
       "    .dataframe thead th {\n",
       "        text-align: right;\n",
       "    }\n",
       "</style>\n",
       "<table border=\"1\" class=\"dataframe\">\n",
       "  <thead>\n",
       "    <tr style=\"text-align: right;\">\n",
       "      <th></th>\n",
       "      <th>frequency</th>\n",
       "      <th>recency</th>\n",
       "      <th>T</th>\n",
       "      <th>monetary_value</th>\n",
       "    </tr>\n",
       "    <tr>\n",
       "      <th>CustomerID</th>\n",
       "      <th></th>\n",
       "      <th></th>\n",
       "      <th></th>\n",
       "      <th></th>\n",
       "    </tr>\n",
       "  </thead>\n",
       "  <tbody>\n",
       "    <tr>\n",
       "      <th>12347.0</th>\n",
       "      <td>6.0</td>\n",
       "      <td>52.142857</td>\n",
       "      <td>52.428571</td>\n",
       "      <td>99.950278</td>\n",
       "    </tr>\n",
       "    <tr>\n",
       "      <th>12348.0</th>\n",
       "      <td>3.0</td>\n",
       "      <td>40.428571</td>\n",
       "      <td>51.142857</td>\n",
       "      <td>100.493333</td>\n",
       "    </tr>\n",
       "    <tr>\n",
       "      <th>12352.0</th>\n",
       "      <td>6.0</td>\n",
       "      <td>37.142857</td>\n",
       "      <td>42.285714</td>\n",
       "      <td>61.376111</td>\n",
       "    </tr>\n",
       "    <tr>\n",
       "      <th>12356.0</th>\n",
       "      <td>2.0</td>\n",
       "      <td>43.285714</td>\n",
       "      <td>46.428571</td>\n",
       "      <td>134.952500</td>\n",
       "    </tr>\n",
       "    <tr>\n",
       "      <th>12359.0</th>\n",
       "      <td>3.0</td>\n",
       "      <td>39.142857</td>\n",
       "      <td>47.285714</td>\n",
       "      <td>640.281111</td>\n",
       "    </tr>\n",
       "    <tr>\n",
       "      <th>...</th>\n",
       "      <td>...</td>\n",
       "      <td>...</td>\n",
       "      <td>...</td>\n",
       "      <td>...</td>\n",
       "    </tr>\n",
       "    <tr>\n",
       "      <th>18263.0</th>\n",
       "      <td>2.0</td>\n",
       "      <td>32.428571</td>\n",
       "      <td>36.000000</td>\n",
       "      <td>226.390000</td>\n",
       "    </tr>\n",
       "    <tr>\n",
       "      <th>18272.0</th>\n",
       "      <td>5.0</td>\n",
       "      <td>34.857143</td>\n",
       "      <td>35.142857</td>\n",
       "      <td>97.550400</td>\n",
       "    </tr>\n",
       "    <tr>\n",
       "      <th>18273.0</th>\n",
       "      <td>2.0</td>\n",
       "      <td>36.428571</td>\n",
       "      <td>36.714286</td>\n",
       "      <td>38.250000</td>\n",
       "    </tr>\n",
       "    <tr>\n",
       "      <th>18283.0</th>\n",
       "      <td>13.0</td>\n",
       "      <td>47.714286</td>\n",
       "      <td>48.142857</td>\n",
       "      <td>11.462012</td>\n",
       "    </tr>\n",
       "    <tr>\n",
       "      <th>18287.0</th>\n",
       "      <td>2.0</td>\n",
       "      <td>22.714286</td>\n",
       "      <td>28.714286</td>\n",
       "      <td>268.000000</td>\n",
       "    </tr>\n",
       "  </tbody>\n",
       "</table>\n",
       "<p>1916 rows × 4 columns</p>\n",
       "</div>"
      ],
      "text/plain": [
       "            frequency    recency          T  monetary_value\n",
       "CustomerID                                                 \n",
       "12347.0           6.0  52.142857  52.428571       99.950278\n",
       "12348.0           3.0  40.428571  51.142857      100.493333\n",
       "12352.0           6.0  37.142857  42.285714       61.376111\n",
       "12356.0           2.0  43.285714  46.428571      134.952500\n",
       "12359.0           3.0  39.142857  47.285714      640.281111\n",
       "...               ...        ...        ...             ...\n",
       "18263.0           2.0  32.428571  36.000000      226.390000\n",
       "18272.0           5.0  34.857143  35.142857       97.550400\n",
       "18273.0           2.0  36.428571  36.714286       38.250000\n",
       "18283.0          13.0  47.714286  48.142857       11.462012\n",
       "18287.0           2.0  22.714286  28.714286      268.000000\n",
       "\n",
       "[1916 rows x 4 columns]"
      ]
     },
     "execution_count": 199,
     "metadata": {},
     "output_type": "execute_result"
    }
   ],
   "source": [
    "modeldata"
   ]
  },
  {
   "cell_type": "code",
   "execution_count": 121,
   "id": "e0f31f8f",
   "metadata": {},
   "outputs": [],
   "source": [
    "#df.to_csv('modeldata.csv', index=False)"
   ]
  },
  {
   "cell_type": "code",
   "execution_count": 80,
   "id": "bced1ff2",
   "metadata": {},
   "outputs": [
    {
     "data": {
      "text/plain": [
       "'/Users/nemisha'"
      ]
     },
     "execution_count": 80,
     "metadata": {},
     "output_type": "execute_result"
    }
   ],
   "source": [
    "#os.getcwd()"
   ]
  },
  {
   "cell_type": "markdown",
   "id": "c2135e14",
   "metadata": {},
   "source": [
    "## BG/NBD model"
   ]
  },
  {
   "cell_type": "code",
   "execution_count": 200,
   "id": "decd38f3",
   "metadata": {},
   "outputs": [
    {
     "name": "stdout",
     "output_type": "stream",
     "text": [
      "<lifetimes.BetaGeoFitter: fitted with 1916 subjects, a: 0.02, alpha: 16.22, b: 13.28, r: 2.44>\n"
     ]
    }
   ],
   "source": [
    "from lifetimes import BetaGeoFitter\n",
    "\n",
    "# penalizer_coef: regularization, to prevent overfitting especially when the dataset is small, can set 0 when dataset is large enough\n",
    "bgf = BetaGeoFitter(penalizer_coef=0.0)\n",
    "\n",
    "# fit BG model on the whole data\n",
    "bgf.fit(modeldata['frequency'], modeldata['recency'], modeldata['T'])\n",
    "print(bgf)"
   ]
  },
  {
   "cell_type": "code",
   "execution_count": 201,
   "id": "f9273df4",
   "metadata": {
    "scrolled": true
   },
   "outputs": [
    {
     "data": {
      "text/plain": [
       "CustomerID\n",
       "14911.0    1.919373\n",
       "12748.0    1.660499\n",
       "17841.0    1.631671\n",
       "15311.0    1.315242\n",
       "14606.0    1.300814\n",
       "12971.0    1.043945\n",
       "13089.0    0.977962\n",
       "14527.0    0.803921\n",
       "13798.0    0.784567\n",
       "16422.0    0.715983\n",
       "dtype: float64"
      ]
     },
     "execution_count": 201,
     "metadata": {},
     "output_type": "execute_result"
    }
   ],
   "source": [
    "bgf.conditional_expected_number_of_purchases_up_to_time(1, # week\n",
    "                                                        modeldata['frequency'],\n",
    "                                                        modeldata['recency'],\n",
    "                                                        modeldata['T']).sort_values(ascending=False).head(10)"
   ]
  },
  {
   "cell_type": "markdown",
   "id": "4d68544a",
   "metadata": {},
   "source": [
    "Top 10 customers expected to make the most purchases in a week"
   ]
  },
  {
   "cell_type": "code",
   "execution_count": 202,
   "id": "b6880fea",
   "metadata": {},
   "outputs": [],
   "source": [
    "week=bgf.conditional_expected_number_of_purchases_up_to_time(1, # week\n",
    "                                                        modeldata['frequency'],\n",
    "                                                        modeldata['recency'],\n",
    "                                                        modeldata['T']).sort_values(ascending=False).head(10)"
   ]
  },
  {
   "cell_type": "code",
   "execution_count": 203,
   "id": "7ebc6843",
   "metadata": {},
   "outputs": [
    {
     "data": {
      "text/html": [
       "<div>\n",
       "<style scoped>\n",
       "    .dataframe tbody tr th:only-of-type {\n",
       "        vertical-align: middle;\n",
       "    }\n",
       "\n",
       "    .dataframe tbody tr th {\n",
       "        vertical-align: top;\n",
       "    }\n",
       "\n",
       "    .dataframe thead th {\n",
       "        text-align: right;\n",
       "    }\n",
       "</style>\n",
       "<table border=\"1\" class=\"dataframe\">\n",
       "  <thead>\n",
       "    <tr style=\"text-align: right;\">\n",
       "      <th></th>\n",
       "      <th>0</th>\n",
       "    </tr>\n",
       "    <tr>\n",
       "      <th>CustomerID</th>\n",
       "      <th></th>\n",
       "    </tr>\n",
       "  </thead>\n",
       "  <tbody>\n",
       "    <tr>\n",
       "      <th>14911.0</th>\n",
       "      <td>1.919373</td>\n",
       "    </tr>\n",
       "    <tr>\n",
       "      <th>12748.0</th>\n",
       "      <td>1.660499</td>\n",
       "    </tr>\n",
       "    <tr>\n",
       "      <th>17841.0</th>\n",
       "      <td>1.631671</td>\n",
       "    </tr>\n",
       "    <tr>\n",
       "      <th>15311.0</th>\n",
       "      <td>1.315242</td>\n",
       "    </tr>\n",
       "    <tr>\n",
       "      <th>14606.0</th>\n",
       "      <td>1.300814</td>\n",
       "    </tr>\n",
       "    <tr>\n",
       "      <th>12971.0</th>\n",
       "      <td>1.043945</td>\n",
       "    </tr>\n",
       "    <tr>\n",
       "      <th>13089.0</th>\n",
       "      <td>0.977962</td>\n",
       "    </tr>\n",
       "    <tr>\n",
       "      <th>14527.0</th>\n",
       "      <td>0.803921</td>\n",
       "    </tr>\n",
       "    <tr>\n",
       "      <th>13798.0</th>\n",
       "      <td>0.784567</td>\n",
       "    </tr>\n",
       "    <tr>\n",
       "      <th>16422.0</th>\n",
       "      <td>0.715983</td>\n",
       "    </tr>\n",
       "  </tbody>\n",
       "</table>\n",
       "</div>"
      ],
      "text/plain": [
       "                   0\n",
       "CustomerID          \n",
       "14911.0     1.919373\n",
       "12748.0     1.660499\n",
       "17841.0     1.631671\n",
       "15311.0     1.315242\n",
       "14606.0     1.300814\n",
       "12971.0     1.043945\n",
       "13089.0     0.977962\n",
       "14527.0     0.803921\n",
       "13798.0     0.784567\n",
       "16422.0     0.715983"
      ]
     },
     "execution_count": 203,
     "metadata": {},
     "output_type": "execute_result"
    }
   ],
   "source": [
    "top_week = pd.DataFrame(week)\n",
    "top_week.head(10)"
   ]
  },
  {
   "cell_type": "code",
   "execution_count": 90,
   "id": "8b0fcd89",
   "metadata": {},
   "outputs": [],
   "source": [
    "#df.to_excel('top_week.xlsx', sheet_name='sheet1', index=False)"
   ]
  },
  {
   "cell_type": "code",
   "execution_count": 122,
   "id": "94fcd1ce",
   "metadata": {},
   "outputs": [],
   "source": [
    "#df.to_csv('top_week.csv', index=False)"
   ]
  },
  {
   "cell_type": "code",
   "execution_count": 204,
   "id": "798aa3fe",
   "metadata": {},
   "outputs": [
    {
     "data": {
      "text/plain": [
       "CustomerID\n",
       "14911.0    7.675030\n",
       "12748.0    6.639887\n",
       "17841.0    6.524614\n",
       "15311.0    5.259333\n",
       "14606.0    5.201637\n",
       "12971.0    4.174508\n",
       "13089.0    3.910660\n",
       "14527.0    3.214731\n",
       "13798.0    3.137347\n",
       "16422.0    2.863098\n",
       "dtype: float64"
      ]
     },
     "execution_count": 204,
     "metadata": {},
     "output_type": "execute_result"
    }
   ],
   "source": [
    "bgf.conditional_expected_number_of_purchases_up_to_time(4, \n",
    "                                                 # 4 weeks = 1 month\n",
    "                                                        modeldata['frequency'],\n",
    "                                                        modeldata['recency'],\n",
    "                                                        modeldata['T']).sort_values(ascending=False).head(10)"
   ]
  },
  {
   "cell_type": "markdown",
   "id": "60c76b8d",
   "metadata": {},
   "source": [
    "Top 10 customers expected to make the most purchases in a month"
   ]
  },
  {
   "cell_type": "code",
   "execution_count": 205,
   "id": "3c977a46",
   "metadata": {},
   "outputs": [],
   "source": [
    "month= bgf.conditional_expected_number_of_purchases_up_to_time(4, \n",
    "                                                 # 4 weeks = 1 month\n",
    "                                                        modeldata['frequency'],\n",
    "                                                        modeldata['recency'],\n",
    "                                                        modeldata['T']).sort_values(ascending=False).head(10)"
   ]
  },
  {
   "cell_type": "code",
   "execution_count": 206,
   "id": "30fa61da",
   "metadata": {},
   "outputs": [
    {
     "data": {
      "text/html": [
       "<div>\n",
       "<style scoped>\n",
       "    .dataframe tbody tr th:only-of-type {\n",
       "        vertical-align: middle;\n",
       "    }\n",
       "\n",
       "    .dataframe tbody tr th {\n",
       "        vertical-align: top;\n",
       "    }\n",
       "\n",
       "    .dataframe thead th {\n",
       "        text-align: right;\n",
       "    }\n",
       "</style>\n",
       "<table border=\"1\" class=\"dataframe\">\n",
       "  <thead>\n",
       "    <tr style=\"text-align: right;\">\n",
       "      <th></th>\n",
       "      <th>0</th>\n",
       "    </tr>\n",
       "    <tr>\n",
       "      <th>CustomerID</th>\n",
       "      <th></th>\n",
       "    </tr>\n",
       "  </thead>\n",
       "  <tbody>\n",
       "    <tr>\n",
       "      <th>14911.0</th>\n",
       "      <td>7.675030</td>\n",
       "    </tr>\n",
       "    <tr>\n",
       "      <th>12748.0</th>\n",
       "      <td>6.639887</td>\n",
       "    </tr>\n",
       "    <tr>\n",
       "      <th>17841.0</th>\n",
       "      <td>6.524614</td>\n",
       "    </tr>\n",
       "    <tr>\n",
       "      <th>15311.0</th>\n",
       "      <td>5.259333</td>\n",
       "    </tr>\n",
       "    <tr>\n",
       "      <th>14606.0</th>\n",
       "      <td>5.201637</td>\n",
       "    </tr>\n",
       "    <tr>\n",
       "      <th>12971.0</th>\n",
       "      <td>4.174508</td>\n",
       "    </tr>\n",
       "    <tr>\n",
       "      <th>13089.0</th>\n",
       "      <td>3.910660</td>\n",
       "    </tr>\n",
       "    <tr>\n",
       "      <th>14527.0</th>\n",
       "      <td>3.214731</td>\n",
       "    </tr>\n",
       "    <tr>\n",
       "      <th>13798.0</th>\n",
       "      <td>3.137347</td>\n",
       "    </tr>\n",
       "    <tr>\n",
       "      <th>16422.0</th>\n",
       "      <td>2.863098</td>\n",
       "    </tr>\n",
       "  </tbody>\n",
       "</table>\n",
       "</div>"
      ],
      "text/plain": [
       "                   0\n",
       "CustomerID          \n",
       "14911.0     7.675030\n",
       "12748.0     6.639887\n",
       "17841.0     6.524614\n",
       "15311.0     5.259333\n",
       "14606.0     5.201637\n",
       "12971.0     4.174508\n",
       "13089.0     3.910660\n",
       "14527.0     3.214731\n",
       "13798.0     3.137347\n",
       "16422.0     2.863098"
      ]
     },
     "execution_count": 206,
     "metadata": {},
     "output_type": "execute_result"
    }
   ],
   "source": [
    "top_month = pd.DataFrame(month)\n",
    "top_month.head(10)"
   ]
  },
  {
   "cell_type": "code",
   "execution_count": 95,
   "id": "334a2821",
   "metadata": {},
   "outputs": [],
   "source": [
    "#df.to_excel('top_month.xlsx', sheet_name='sheet1', index=False)"
   ]
  },
  {
   "cell_type": "code",
   "execution_count": 123,
   "id": "c66459bd",
   "metadata": {},
   "outputs": [],
   "source": [
    "#df.to_csv('top_month.csv', index=False)"
   ]
  },
  {
   "cell_type": "code",
   "execution_count": 207,
   "id": "402faafa",
   "metadata": {},
   "outputs": [
    {
     "data": {
      "text/plain": [
       "CustomerID\n",
       "14911.0    45.960528\n",
       "12748.0    39.762489\n",
       "17841.0    39.072275\n",
       "15311.0    31.496222\n",
       "14606.0    31.150758\n",
       "12971.0    25.000555\n",
       "13089.0    23.420500\n",
       "14527.0    19.253504\n",
       "13798.0    18.790312\n",
       "16422.0    17.148013\n",
       "dtype: float64"
      ]
     },
     "execution_count": 207,
     "metadata": {},
     "output_type": "execute_result"
    }
   ],
   "source": [
    "bgf.conditional_expected_number_of_purchases_up_to_time(4 * 6, \n",
    "                                           # weeks * count = months\n",
    "                                                        modeldata['frequency'],\n",
    "                                                        modeldata['recency'],\n",
    "                                                        modeldata['T']).sort_values(ascending=False).head(10)"
   ]
  },
  {
   "cell_type": "markdown",
   "id": "f3a39458",
   "metadata": {},
   "source": [
    "Top 10 customers expected to make the most purchases in next 6 months"
   ]
  },
  {
   "cell_type": "code",
   "execution_count": 208,
   "id": "ff03fbbf",
   "metadata": {},
   "outputs": [],
   "source": [
    "six_month= bgf.conditional_expected_number_of_purchases_up_to_time(4 * 6, \n",
    "                                           # weeks * count = months\n",
    "                                                        modeldata['frequency'],\n",
    "                                                        modeldata['recency'],\n",
    "                                                        modeldata['T']).sort_values(ascending=False).head(10)"
   ]
  },
  {
   "cell_type": "code",
   "execution_count": 209,
   "id": "2445a488",
   "metadata": {},
   "outputs": [
    {
     "data": {
      "text/html": [
       "<div>\n",
       "<style scoped>\n",
       "    .dataframe tbody tr th:only-of-type {\n",
       "        vertical-align: middle;\n",
       "    }\n",
       "\n",
       "    .dataframe tbody tr th {\n",
       "        vertical-align: top;\n",
       "    }\n",
       "\n",
       "    .dataframe thead th {\n",
       "        text-align: right;\n",
       "    }\n",
       "</style>\n",
       "<table border=\"1\" class=\"dataframe\">\n",
       "  <thead>\n",
       "    <tr style=\"text-align: right;\">\n",
       "      <th></th>\n",
       "      <th>0</th>\n",
       "    </tr>\n",
       "    <tr>\n",
       "      <th>CustomerID</th>\n",
       "      <th></th>\n",
       "    </tr>\n",
       "  </thead>\n",
       "  <tbody>\n",
       "    <tr>\n",
       "      <th>14911.0</th>\n",
       "      <td>45.960528</td>\n",
       "    </tr>\n",
       "    <tr>\n",
       "      <th>12748.0</th>\n",
       "      <td>39.762489</td>\n",
       "    </tr>\n",
       "    <tr>\n",
       "      <th>17841.0</th>\n",
       "      <td>39.072275</td>\n",
       "    </tr>\n",
       "    <tr>\n",
       "      <th>15311.0</th>\n",
       "      <td>31.496222</td>\n",
       "    </tr>\n",
       "    <tr>\n",
       "      <th>14606.0</th>\n",
       "      <td>31.150758</td>\n",
       "    </tr>\n",
       "    <tr>\n",
       "      <th>12971.0</th>\n",
       "      <td>25.000555</td>\n",
       "    </tr>\n",
       "    <tr>\n",
       "      <th>13089.0</th>\n",
       "      <td>23.420500</td>\n",
       "    </tr>\n",
       "    <tr>\n",
       "      <th>14527.0</th>\n",
       "      <td>19.253504</td>\n",
       "    </tr>\n",
       "    <tr>\n",
       "      <th>13798.0</th>\n",
       "      <td>18.790312</td>\n",
       "    </tr>\n",
       "    <tr>\n",
       "      <th>16422.0</th>\n",
       "      <td>17.148013</td>\n",
       "    </tr>\n",
       "  </tbody>\n",
       "</table>\n",
       "</div>"
      ],
      "text/plain": [
       "                    0\n",
       "CustomerID           \n",
       "14911.0     45.960528\n",
       "12748.0     39.762489\n",
       "17841.0     39.072275\n",
       "15311.0     31.496222\n",
       "14606.0     31.150758\n",
       "12971.0     25.000555\n",
       "13089.0     23.420500\n",
       "14527.0     19.253504\n",
       "13798.0     18.790312\n",
       "16422.0     17.148013"
      ]
     },
     "execution_count": 209,
     "metadata": {},
     "output_type": "execute_result"
    }
   ],
   "source": [
    "six_month = pd.DataFrame(six_month)\n",
    "six_month.head(10)"
   ]
  },
  {
   "cell_type": "code",
   "execution_count": 98,
   "id": "75458287",
   "metadata": {},
   "outputs": [],
   "source": [
    "#df.to_excel('six_month.xlsx', sheet_name='sheet1', index=False)"
   ]
  },
  {
   "cell_type": "code",
   "execution_count": 124,
   "id": "a07d9b8e",
   "metadata": {},
   "outputs": [],
   "source": [
    "#df.to_csv('six_month.csv', index=False)"
   ]
  },
  {
   "cell_type": "code",
   "execution_count": 210,
   "id": "c10f787b",
   "metadata": {},
   "outputs": [
    {
     "data": {
      "text/plain": [
       "6852.657572450366"
      ]
     },
     "execution_count": 210,
     "metadata": {},
     "output_type": "execute_result"
    }
   ],
   "source": [
    "bgf.conditional_expected_number_of_purchases_up_to_time(4 * 6,\n",
    "                                                        modeldata['frequency'],\n",
    "                                                        modeldata['recency'],\n",
    "                                                        modeldata['T']).sum()"
   ]
  },
  {
   "cell_type": "markdown",
   "id": "c104c910",
   "metadata": {},
   "source": [
    "The count of total transactions expected in next 6 months"
   ]
  },
  {
   "cell_type": "markdown",
   "id": "1ea3a8a6",
   "metadata": {},
   "source": [
    "### Predict future transaction number"
   ]
  },
  {
   "cell_type": "code",
   "execution_count": 211,
   "id": "95740d93",
   "metadata": {},
   "outputs": [],
   "source": [
    "t = 1  # in the next 1 day\n",
    "modeldata['predicted_purchases'] = bgf.conditional_expected_number_of_purchases_up_to_time(t, modeldata['frequency'], modeldata['recency'], modeldata['T'])\n"
   ]
  },
  {
   "cell_type": "code",
   "execution_count": 212,
   "id": "6a3b6cf0",
   "metadata": {},
   "outputs": [
    {
     "data": {
      "text/html": [
       "<div>\n",
       "<style scoped>\n",
       "    .dataframe tbody tr th:only-of-type {\n",
       "        vertical-align: middle;\n",
       "    }\n",
       "\n",
       "    .dataframe tbody tr th {\n",
       "        vertical-align: top;\n",
       "    }\n",
       "\n",
       "    .dataframe thead th {\n",
       "        text-align: right;\n",
       "    }\n",
       "</style>\n",
       "<table border=\"1\" class=\"dataframe\">\n",
       "  <thead>\n",
       "    <tr style=\"text-align: right;\">\n",
       "      <th></th>\n",
       "      <th>frequency</th>\n",
       "      <th>recency</th>\n",
       "      <th>T</th>\n",
       "      <th>monetary_value</th>\n",
       "      <th>predicted_purchases</th>\n",
       "    </tr>\n",
       "    <tr>\n",
       "      <th>CustomerID</th>\n",
       "      <th></th>\n",
       "      <th></th>\n",
       "      <th></th>\n",
       "      <th></th>\n",
       "      <th></th>\n",
       "    </tr>\n",
       "  </thead>\n",
       "  <tbody>\n",
       "    <tr>\n",
       "      <th>14606.0</th>\n",
       "      <td>88.0</td>\n",
       "      <td>53.142857</td>\n",
       "      <td>53.285714</td>\n",
       "      <td>1.533811</td>\n",
       "      <td>1.300814</td>\n",
       "    </tr>\n",
       "    <tr>\n",
       "      <th>15311.0</th>\n",
       "      <td>89.0</td>\n",
       "      <td>53.285714</td>\n",
       "      <td>53.285714</td>\n",
       "      <td>7.597875</td>\n",
       "      <td>1.315242</td>\n",
       "    </tr>\n",
       "    <tr>\n",
       "      <th>17841.0</th>\n",
       "      <td>111.0</td>\n",
       "      <td>53.142857</td>\n",
       "      <td>53.285714</td>\n",
       "      <td>3.245468</td>\n",
       "      <td>1.631671</td>\n",
       "    </tr>\n",
       "    <tr>\n",
       "      <th>12748.0</th>\n",
       "      <td>113.0</td>\n",
       "      <td>53.285714</td>\n",
       "      <td>53.285714</td>\n",
       "      <td>2.588162</td>\n",
       "      <td>1.660499</td>\n",
       "    </tr>\n",
       "    <tr>\n",
       "      <th>14911.0</th>\n",
       "      <td>131.0</td>\n",
       "      <td>53.142857</td>\n",
       "      <td>53.285714</td>\n",
       "      <td>8.341926</td>\n",
       "      <td>1.919373</td>\n",
       "    </tr>\n",
       "  </tbody>\n",
       "</table>\n",
       "</div>"
      ],
      "text/plain": [
       "            frequency    recency          T  monetary_value  \\\n",
       "CustomerID                                                    \n",
       "14606.0          88.0  53.142857  53.285714        1.533811   \n",
       "15311.0          89.0  53.285714  53.285714        7.597875   \n",
       "17841.0         111.0  53.142857  53.285714        3.245468   \n",
       "12748.0         113.0  53.285714  53.285714        2.588162   \n",
       "14911.0         131.0  53.142857  53.285714        8.341926   \n",
       "\n",
       "            predicted_purchases  \n",
       "CustomerID                       \n",
       "14606.0                1.300814  \n",
       "15311.0                1.315242  \n",
       "17841.0                1.631671  \n",
       "12748.0                1.660499  \n",
       "14911.0                1.919373  "
      ]
     },
     "execution_count": 212,
     "metadata": {},
     "output_type": "execute_result"
    }
   ],
   "source": [
    "# Highest 5 customers\n",
    "modeldata.sort_values(by='predicted_purchases').tail(5)"
   ]
  },
  {
   "cell_type": "code",
   "execution_count": 213,
   "id": "10b4579d",
   "metadata": {},
   "outputs": [
    {
     "data": {
      "text/html": [
       "<div>\n",
       "<style scoped>\n",
       "    .dataframe tbody tr th:only-of-type {\n",
       "        vertical-align: middle;\n",
       "    }\n",
       "\n",
       "    .dataframe tbody tr th {\n",
       "        vertical-align: top;\n",
       "    }\n",
       "\n",
       "    .dataframe thead th {\n",
       "        text-align: right;\n",
       "    }\n",
       "</style>\n",
       "<table border=\"1\" class=\"dataframe\">\n",
       "  <thead>\n",
       "    <tr style=\"text-align: right;\">\n",
       "      <th></th>\n",
       "      <th>frequency</th>\n",
       "      <th>recency</th>\n",
       "      <th>T</th>\n",
       "      <th>monetary_value</th>\n",
       "      <th>predicted_purchases</th>\n",
       "    </tr>\n",
       "    <tr>\n",
       "      <th>CustomerID</th>\n",
       "      <th></th>\n",
       "      <th></th>\n",
       "      <th></th>\n",
       "      <th></th>\n",
       "      <th></th>\n",
       "    </tr>\n",
       "  </thead>\n",
       "  <tbody>\n",
       "    <tr>\n",
       "      <th>15107.0</th>\n",
       "      <td>5.0</td>\n",
       "      <td>8.714286</td>\n",
       "      <td>53.142857</td>\n",
       "      <td>8.1400</td>\n",
       "      <td>0.036886</td>\n",
       "    </tr>\n",
       "    <tr>\n",
       "      <th>16725.0</th>\n",
       "      <td>5.0</td>\n",
       "      <td>9.857143</td>\n",
       "      <td>53.000000</td>\n",
       "      <td>25.4448</td>\n",
       "      <td>0.045813</td>\n",
       "    </tr>\n",
       "    <tr>\n",
       "      <th>15100.0</th>\n",
       "      <td>2.0</td>\n",
       "      <td>5.714286</td>\n",
       "      <td>53.285714</td>\n",
       "      <td>131.4000</td>\n",
       "      <td>0.053623</td>\n",
       "    </tr>\n",
       "    <tr>\n",
       "      <th>15881.0</th>\n",
       "      <td>2.0</td>\n",
       "      <td>7.428571</td>\n",
       "      <td>52.000000</td>\n",
       "      <td>96.7350</td>\n",
       "      <td>0.057797</td>\n",
       "    </tr>\n",
       "    <tr>\n",
       "      <th>13819.0</th>\n",
       "      <td>2.0</td>\n",
       "      <td>2.571429</td>\n",
       "      <td>45.571429</td>\n",
       "      <td>183.0125</td>\n",
       "      <td>0.058637</td>\n",
       "    </tr>\n",
       "  </tbody>\n",
       "</table>\n",
       "</div>"
      ],
      "text/plain": [
       "            frequency   recency          T  monetary_value  \\\n",
       "CustomerID                                                   \n",
       "15107.0           5.0  8.714286  53.142857          8.1400   \n",
       "16725.0           5.0  9.857143  53.000000         25.4448   \n",
       "15100.0           2.0  5.714286  53.285714        131.4000   \n",
       "15881.0           2.0  7.428571  52.000000         96.7350   \n",
       "13819.0           2.0  2.571429  45.571429        183.0125   \n",
       "\n",
       "            predicted_purchases  \n",
       "CustomerID                       \n",
       "15107.0                0.036886  \n",
       "16725.0                0.045813  \n",
       "15100.0                0.053623  \n",
       "15881.0                0.057797  \n",
       "13819.0                0.058637  "
      ]
     },
     "execution_count": 213,
     "metadata": {},
     "output_type": "execute_result"
    }
   ],
   "source": [
    "# Lowest 5 customers\n",
    "modeldata.sort_values(by='predicted_purchases').head(5)"
   ]
  },
  {
   "cell_type": "code",
   "execution_count": 214,
   "id": "7f9b3d19",
   "metadata": {},
   "outputs": [],
   "source": [
    "# Lowest 5 customers\n",
    "df_modeldata=modeldata.sort_values(by='predicted_purchases').head(5)"
   ]
  },
  {
   "cell_type": "code",
   "execution_count": 215,
   "id": "b38e2478",
   "metadata": {},
   "outputs": [
    {
     "data": {
      "text/html": [
       "<div>\n",
       "<style scoped>\n",
       "    .dataframe tbody tr th:only-of-type {\n",
       "        vertical-align: middle;\n",
       "    }\n",
       "\n",
       "    .dataframe tbody tr th {\n",
       "        vertical-align: top;\n",
       "    }\n",
       "\n",
       "    .dataframe thead th {\n",
       "        text-align: right;\n",
       "    }\n",
       "</style>\n",
       "<table border=\"1\" class=\"dataframe\">\n",
       "  <thead>\n",
       "    <tr style=\"text-align: right;\">\n",
       "      <th></th>\n",
       "      <th>frequency</th>\n",
       "      <th>recency</th>\n",
       "      <th>T</th>\n",
       "      <th>monetary_value</th>\n",
       "      <th>predicted_purchases</th>\n",
       "    </tr>\n",
       "    <tr>\n",
       "      <th>CustomerID</th>\n",
       "      <th></th>\n",
       "      <th></th>\n",
       "      <th></th>\n",
       "      <th></th>\n",
       "      <th></th>\n",
       "    </tr>\n",
       "  </thead>\n",
       "  <tbody>\n",
       "    <tr>\n",
       "      <th>15107.0</th>\n",
       "      <td>5.0</td>\n",
       "      <td>8.714286</td>\n",
       "      <td>53.142857</td>\n",
       "      <td>8.1400</td>\n",
       "      <td>0.036886</td>\n",
       "    </tr>\n",
       "    <tr>\n",
       "      <th>16725.0</th>\n",
       "      <td>5.0</td>\n",
       "      <td>9.857143</td>\n",
       "      <td>53.000000</td>\n",
       "      <td>25.4448</td>\n",
       "      <td>0.045813</td>\n",
       "    </tr>\n",
       "    <tr>\n",
       "      <th>15100.0</th>\n",
       "      <td>2.0</td>\n",
       "      <td>5.714286</td>\n",
       "      <td>53.285714</td>\n",
       "      <td>131.4000</td>\n",
       "      <td>0.053623</td>\n",
       "    </tr>\n",
       "    <tr>\n",
       "      <th>15881.0</th>\n",
       "      <td>2.0</td>\n",
       "      <td>7.428571</td>\n",
       "      <td>52.000000</td>\n",
       "      <td>96.7350</td>\n",
       "      <td>0.057797</td>\n",
       "    </tr>\n",
       "    <tr>\n",
       "      <th>13819.0</th>\n",
       "      <td>2.0</td>\n",
       "      <td>2.571429</td>\n",
       "      <td>45.571429</td>\n",
       "      <td>183.0125</td>\n",
       "      <td>0.058637</td>\n",
       "    </tr>\n",
       "  </tbody>\n",
       "</table>\n",
       "</div>"
      ],
      "text/plain": [
       "            frequency   recency          T  monetary_value  \\\n",
       "CustomerID                                                   \n",
       "15107.0           5.0  8.714286  53.142857          8.1400   \n",
       "16725.0           5.0  9.857143  53.000000         25.4448   \n",
       "15100.0           2.0  5.714286  53.285714        131.4000   \n",
       "15881.0           2.0  7.428571  52.000000         96.7350   \n",
       "13819.0           2.0  2.571429  45.571429        183.0125   \n",
       "\n",
       "            predicted_purchases  \n",
       "CustomerID                       \n",
       "15107.0                0.036886  \n",
       "16725.0                0.045813  \n",
       "15100.0                0.053623  \n",
       "15881.0                0.057797  \n",
       "13819.0                0.058637  "
      ]
     },
     "execution_count": 215,
     "metadata": {},
     "output_type": "execute_result"
    }
   ],
   "source": [
    "df_modeldata"
   ]
  },
  {
   "cell_type": "code",
   "execution_count": 100,
   "id": "76eddd87",
   "metadata": {},
   "outputs": [],
   "source": [
    "#df.to_excel('df_modeldata.xlsx', sheet_name='sheet1', index=False)"
   ]
  },
  {
   "cell_type": "code",
   "execution_count": 125,
   "id": "34f74df4",
   "metadata": {},
   "outputs": [],
   "source": [
    "#df.to_csv('df_modeldata.csv', index=False)"
   ]
  },
  {
   "cell_type": "code",
   "execution_count": 217,
   "id": "fe89e5c5",
   "metadata": {},
   "outputs": [],
   "source": [
    "summary_cal_holdout = calibration_and_holdout_data(df, 'CustomerID', 'InvoiceDate',\n",
    "                                        calibration_period_end='2011-08-31',\n",
    "                                        observation_period_end='2011-12-09' )"
   ]
  },
  {
   "cell_type": "code",
   "execution_count": 218,
   "id": "8321dff7",
   "metadata": {},
   "outputs": [
    {
     "data": {
      "text/html": [
       "<div>\n",
       "<style scoped>\n",
       "    .dataframe tbody tr th:only-of-type {\n",
       "        vertical-align: middle;\n",
       "    }\n",
       "\n",
       "    .dataframe tbody tr th {\n",
       "        vertical-align: top;\n",
       "    }\n",
       "\n",
       "    .dataframe thead th {\n",
       "        text-align: right;\n",
       "    }\n",
       "</style>\n",
       "<table border=\"1\" class=\"dataframe\">\n",
       "  <thead>\n",
       "    <tr style=\"text-align: right;\">\n",
       "      <th></th>\n",
       "      <th>frequency_cal</th>\n",
       "      <th>recency_cal</th>\n",
       "      <th>T_cal</th>\n",
       "      <th>frequency_holdout</th>\n",
       "      <th>duration_holdout</th>\n",
       "    </tr>\n",
       "    <tr>\n",
       "      <th>CustomerID</th>\n",
       "      <th></th>\n",
       "      <th></th>\n",
       "      <th></th>\n",
       "      <th></th>\n",
       "      <th></th>\n",
       "    </tr>\n",
       "  </thead>\n",
       "  <tbody>\n",
       "    <tr>\n",
       "      <th>12346.0</th>\n",
       "      <td>0.0</td>\n",
       "      <td>0.0</td>\n",
       "      <td>225.0</td>\n",
       "      <td>0.0</td>\n",
       "      <td>100.0</td>\n",
       "    </tr>\n",
       "    <tr>\n",
       "      <th>12347.0</th>\n",
       "      <td>4.0</td>\n",
       "      <td>238.0</td>\n",
       "      <td>267.0</td>\n",
       "      <td>2.0</td>\n",
       "      <td>100.0</td>\n",
       "    </tr>\n",
       "    <tr>\n",
       "      <th>12348.0</th>\n",
       "      <td>2.0</td>\n",
       "      <td>110.0</td>\n",
       "      <td>258.0</td>\n",
       "      <td>1.0</td>\n",
       "      <td>100.0</td>\n",
       "    </tr>\n",
       "    <tr>\n",
       "      <th>12350.0</th>\n",
       "      <td>0.0</td>\n",
       "      <td>0.0</td>\n",
       "      <td>210.0</td>\n",
       "      <td>0.0</td>\n",
       "      <td>100.0</td>\n",
       "    </tr>\n",
       "    <tr>\n",
       "      <th>12352.0</th>\n",
       "      <td>3.0</td>\n",
       "      <td>34.0</td>\n",
       "      <td>196.0</td>\n",
       "      <td>3.0</td>\n",
       "      <td>100.0</td>\n",
       "    </tr>\n",
       "  </tbody>\n",
       "</table>\n",
       "</div>"
      ],
      "text/plain": [
       "            frequency_cal  recency_cal  T_cal  frequency_holdout  \\\n",
       "CustomerID                                                         \n",
       "12346.0               0.0          0.0  225.0                0.0   \n",
       "12347.0               4.0        238.0  267.0                2.0   \n",
       "12348.0               2.0        110.0  258.0                1.0   \n",
       "12350.0               0.0          0.0  210.0                0.0   \n",
       "12352.0               3.0         34.0  196.0                3.0   \n",
       "\n",
       "            duration_holdout  \n",
       "CustomerID                    \n",
       "12346.0                100.0  \n",
       "12347.0                100.0  \n",
       "12348.0                100.0  \n",
       "12350.0                100.0  \n",
       "12352.0                100.0  "
      ]
     },
     "execution_count": 218,
     "metadata": {},
     "output_type": "execute_result"
    }
   ],
   "source": [
    "summary_cal_holdout.head()"
   ]
  },
  {
   "cell_type": "code",
   "execution_count": 219,
   "id": "6fbf87bf",
   "metadata": {},
   "outputs": [
    {
     "data": {
      "text/plain": [
       "<AxesSubplot:title={'center':'Actual Purchases in Holdout Period vs Predicted Purchases'}, xlabel='Purchases in calibration period', ylabel='Average of Purchases in Holdout Period'>"
      ]
     },
     "execution_count": 219,
     "metadata": {},
     "output_type": "execute_result"
    },
    {
     "data": {
      "image/png": "[encoded data removed]",
      "text/plain": [
       "<Figure size 432x288 with 1 Axes>"
      ]
     },
     "metadata": {
      "needs_background": "light"
     },
     "output_type": "display_data"
    }
   ],
   "source": [
    "from lifetimes.plotting import plot_calibration_purchases_vs_holdout_purchases\n",
    "\n",
    "bgf2 = BetaGeoFitter(penalizer_coef=0.0)\n",
    "bgf2.fit(summary_cal_holdout['frequency_cal'], summary_cal_holdout['recency_cal'], summary_cal_holdout['T_cal'])\n",
    "plot_calibration_purchases_vs_holdout_purchases(bgf2, summary_cal_holdout)"
   ]
  },
  {
   "cell_type": "markdown",
   "id": "91355915",
   "metadata": {},
   "source": [
    "The model is good because model prediction (orange line) and true data (blue line) overlap"
   ]
  },
  {
   "cell_type": "code",
   "execution_count": 220,
   "id": "0be3d204",
   "metadata": {},
   "outputs": [],
   "source": [
    "summary_cal_holdout['predicted_purchases'] = bgf2.conditional_expected_number_of_purchases_up_to_time(100, summary_cal_holdout['frequency_cal'], summary_cal_holdout['recency_cal'], summary_cal_holdout['T_cal'])\n"
   ]
  },
  {
   "cell_type": "code",
   "execution_count": 221,
   "id": "64006b1a",
   "metadata": {},
   "outputs": [
    {
     "data": {
      "text/html": [
       "<div>\n",
       "<style scoped>\n",
       "    .dataframe tbody tr th:only-of-type {\n",
       "        vertical-align: middle;\n",
       "    }\n",
       "\n",
       "    .dataframe tbody tr th {\n",
       "        vertical-align: top;\n",
       "    }\n",
       "\n",
       "    .dataframe thead th {\n",
       "        text-align: right;\n",
       "    }\n",
       "</style>\n",
       "<table border=\"1\" class=\"dataframe\">\n",
       "  <thead>\n",
       "    <tr style=\"text-align: right;\">\n",
       "      <th></th>\n",
       "      <th>frequency_cal</th>\n",
       "      <th>recency_cal</th>\n",
       "      <th>T_cal</th>\n",
       "      <th>frequency_holdout</th>\n",
       "      <th>duration_holdout</th>\n",
       "      <th>predicted_purchases</th>\n",
       "    </tr>\n",
       "    <tr>\n",
       "      <th>CustomerID</th>\n",
       "      <th></th>\n",
       "      <th></th>\n",
       "      <th></th>\n",
       "      <th></th>\n",
       "      <th></th>\n",
       "      <th></th>\n",
       "    </tr>\n",
       "  </thead>\n",
       "  <tbody>\n",
       "    <tr>\n",
       "      <th>12346.0</th>\n",
       "      <td>0.0</td>\n",
       "      <td>0.0</td>\n",
       "      <td>225.0</td>\n",
       "      <td>0.0</td>\n",
       "      <td>100.0</td>\n",
       "      <td>0.248374</td>\n",
       "    </tr>\n",
       "    <tr>\n",
       "      <th>12347.0</th>\n",
       "      <td>4.0</td>\n",
       "      <td>238.0</td>\n",
       "      <td>267.0</td>\n",
       "      <td>2.0</td>\n",
       "      <td>100.0</td>\n",
       "      <td>1.418368</td>\n",
       "    </tr>\n",
       "    <tr>\n",
       "      <th>12348.0</th>\n",
       "      <td>2.0</td>\n",
       "      <td>110.0</td>\n",
       "      <td>258.0</td>\n",
       "      <td>1.0</td>\n",
       "      <td>100.0</td>\n",
       "      <td>0.840423</td>\n",
       "    </tr>\n",
       "    <tr>\n",
       "      <th>12350.0</th>\n",
       "      <td>0.0</td>\n",
       "      <td>0.0</td>\n",
       "      <td>210.0</td>\n",
       "      <td>0.0</td>\n",
       "      <td>100.0</td>\n",
       "      <td>0.261874</td>\n",
       "    </tr>\n",
       "    <tr>\n",
       "      <th>12352.0</th>\n",
       "      <td>3.0</td>\n",
       "      <td>34.0</td>\n",
       "      <td>196.0</td>\n",
       "      <td>3.0</td>\n",
       "      <td>100.0</td>\n",
       "      <td>1.421056</td>\n",
       "    </tr>\n",
       "    <tr>\n",
       "      <th>...</th>\n",
       "      <td>...</td>\n",
       "      <td>...</td>\n",
       "      <td>...</td>\n",
       "      <td>...</td>\n",
       "      <td>...</td>\n",
       "      <td>...</td>\n",
       "    </tr>\n",
       "    <tr>\n",
       "      <th>18280.0</th>\n",
       "      <td>0.0</td>\n",
       "      <td>0.0</td>\n",
       "      <td>177.0</td>\n",
       "      <td>0.0</td>\n",
       "      <td>100.0</td>\n",
       "      <td>0.297442</td>\n",
       "    </tr>\n",
       "    <tr>\n",
       "      <th>18281.0</th>\n",
       "      <td>0.0</td>\n",
       "      <td>0.0</td>\n",
       "      <td>80.0</td>\n",
       "      <td>0.0</td>\n",
       "      <td>100.0</td>\n",
       "      <td>0.495104</td>\n",
       "    </tr>\n",
       "    <tr>\n",
       "      <th>18282.0</th>\n",
       "      <td>0.0</td>\n",
       "      <td>0.0</td>\n",
       "      <td>26.0</td>\n",
       "      <td>1.0</td>\n",
       "      <td>100.0</td>\n",
       "      <td>0.785816</td>\n",
       "    </tr>\n",
       "    <tr>\n",
       "      <th>18283.0</th>\n",
       "      <td>7.0</td>\n",
       "      <td>189.0</td>\n",
       "      <td>237.0</td>\n",
       "      <td>6.0</td>\n",
       "      <td>100.0</td>\n",
       "      <td>2.549027</td>\n",
       "    </tr>\n",
       "    <tr>\n",
       "      <th>18287.0</th>\n",
       "      <td>0.0</td>\n",
       "      <td>0.0</td>\n",
       "      <td>101.0</td>\n",
       "      <td>2.0</td>\n",
       "      <td>100.0</td>\n",
       "      <td>0.432833</td>\n",
       "    </tr>\n",
       "  </tbody>\n",
       "</table>\n",
       "<p>3317 rows × 6 columns</p>\n",
       "</div>"
      ],
      "text/plain": [
       "            frequency_cal  recency_cal  T_cal  frequency_holdout  \\\n",
       "CustomerID                                                         \n",
       "12346.0               0.0          0.0  225.0                0.0   \n",
       "12347.0               4.0        238.0  267.0                2.0   \n",
       "12348.0               2.0        110.0  258.0                1.0   \n",
       "12350.0               0.0          0.0  210.0                0.0   \n",
       "12352.0               3.0         34.0  196.0                3.0   \n",
       "...                   ...          ...    ...                ...   \n",
       "18280.0               0.0          0.0  177.0                0.0   \n",
       "18281.0               0.0          0.0   80.0                0.0   \n",
       "18282.0               0.0          0.0   26.0                1.0   \n",
       "18283.0               7.0        189.0  237.0                6.0   \n",
       "18287.0               0.0          0.0  101.0                2.0   \n",
       "\n",
       "            duration_holdout  predicted_purchases  \n",
       "CustomerID                                         \n",
       "12346.0                100.0             0.248374  \n",
       "12347.0                100.0             1.418368  \n",
       "12348.0                100.0             0.840423  \n",
       "12350.0                100.0             0.261874  \n",
       "12352.0                100.0             1.421056  \n",
       "...                      ...                  ...  \n",
       "18280.0                100.0             0.297442  \n",
       "18281.0                100.0             0.495104  \n",
       "18282.0                100.0             0.785816  \n",
       "18283.0                100.0             2.549027  \n",
       "18287.0                100.0             0.432833  \n",
       "\n",
       "[3317 rows x 6 columns]"
      ]
     },
     "execution_count": 221,
     "metadata": {},
     "output_type": "execute_result"
    }
   ],
   "source": [
    "summary_cal_holdout\n"
   ]
  },
  {
   "cell_type": "code",
   "execution_count": 112,
   "id": "f2365a9d",
   "metadata": {},
   "outputs": [],
   "source": [
    "#holdout=summary_cal_holdout"
   ]
  },
  {
   "cell_type": "code",
   "execution_count": 113,
   "id": "e91d18d7",
   "metadata": {},
   "outputs": [],
   "source": [
    "#df.to_excel('holdout.xlsx', sheet_name='sheet1', index=False)"
   ]
  },
  {
   "cell_type": "code",
   "execution_count": 126,
   "id": "a157842b",
   "metadata": {},
   "outputs": [],
   "source": [
    "#df.to_csv('holdout.csv', index=False)"
   ]
  },
  {
   "cell_type": "code",
   "execution_count": 223,
   "id": "b2448009",
   "metadata": {},
   "outputs": [],
   "source": [
    "from sklearn.metrics import mean_squared_error, r2_score\n",
    "\n",
    "def smape(y_true, y_pred):\n",
    "    difference = abs(y_true - y_pred)\n",
    "    denominator = (abs(y_true) + abs(y_pred))/2\n",
    "    return np.mean(np.where(denominator==0, 0, difference/denominator))"
   ]
  },
  {
   "cell_type": "code",
   "execution_count": 224,
   "id": "4739dacd",
   "metadata": {},
   "outputs": [
    {
     "name": "stdout",
     "output_type": "stream",
     "text": [
      "RMSE:  1.6297864859747002\n",
      "SMAPE 1.21430229288416\n",
      "R2:  0.5610201509609365\n"
     ]
    }
   ],
   "source": [
    "print('RMSE: ', mean_squared_error(summary_cal_holdout['frequency_holdout'], summary_cal_holdout['predicted_purchases'])**(1/2))\n",
    "print('SMAPE', smape(summary_cal_holdout['frequency_holdout'], summary_cal_holdout['predicted_purchases']))\n",
    "print('R2: ', r2_score(summary_cal_holdout['frequency_holdout'], summary_cal_holdout['predicted_purchases']))\n"
   ]
  },
  {
   "cell_type": "code",
   "execution_count": 225,
   "id": "830305fd",
   "metadata": {},
   "outputs": [
    {
     "data": {
      "text/plain": [
       "1.2725764006672178"
      ]
     },
     "execution_count": 225,
     "metadata": {},
     "output_type": "execute_result"
    }
   ],
   "source": [
    "# predict for a specific customer, number of purchase in next 10 days\n",
    "t = 10\n",
    "individual = modeldata.loc[12380]\n",
    "bgf.predict(t, individual['frequency'], individual['recency'], individual['T'])"
   ]
  },
  {
   "cell_type": "markdown",
   "id": "4d399a46",
   "metadata": {},
   "source": [
    "### Historical probability of being alive"
   ]
  },
  {
   "cell_type": "code",
   "execution_count": 226,
   "id": "34cf0be0",
   "metadata": {},
   "outputs": [
    {
     "data": {
      "text/plain": [
       "<AxesSubplot:title={'center':'History of P_alive'}, ylabel='P_alive'>"
      ]
     },
     "execution_count": 226,
     "metadata": {},
     "output_type": "execute_result"
    },
    {
     "data": {
      "image/png": "[encoded data removed]",
      "text/plain": [
       "<Figure size 432x288 with 1 Axes>"
      ]
     },
     "metadata": {
      "needs_background": "light"
     },
     "output_type": "display_data"
    }
   ],
   "source": [
    "# Customer 14606\n",
    "# frequent customer, alive throughout the year.\n",
    "id = 14606\n",
    "days_since_birth = 365\n",
    "sp_trans = df.loc[df['CustomerID'] == id]\n",
    "plot_history_alive(bgf, days_since_birth, sp_trans, 'InvoiceDate')"
   ]
  },
  {
   "cell_type": "markdown",
   "id": "544767a1",
   "metadata": {},
   "source": [
    "## Gamma-Gamma Submodel"
   ]
  },
  {
   "cell_type": "code",
   "execution_count": 227,
   "id": "fcec93bc",
   "metadata": {},
   "outputs": [
    {
     "data": {
      "text/plain": [
       "<lifetimes.GammaGammaFitter: fitted with 1916 subjects, p: 3.70, q: 0.55, v: 3.62>"
      ]
     },
     "execution_count": 227,
     "metadata": {},
     "output_type": "execute_result"
    }
   ],
   "source": [
    "ggf = GammaGammaFitter(penalizer_coef=0.01)\n",
    "\n",
    "ggf.fit(modeldata['frequency'], modeldata['monetary_value'])"
   ]
  },
  {
   "cell_type": "code",
   "execution_count": 228,
   "id": "366e6854",
   "metadata": {},
   "outputs": [
    {
     "data": {
      "text/plain": [
       "CustomerID\n",
       "12798.0    1431.610736\n",
       "12409.0    1297.318780\n",
       "16532.0    1290.079831\n",
       "16303.0    1208.891251\n",
       "13802.0     968.275401\n",
       "17396.0     804.269267\n",
       "12754.0     791.359107\n",
       "12744.0     789.018345\n",
       "14175.0     773.933980\n",
       "12557.0     733.968390\n",
       "dtype: float64"
      ]
     },
     "execution_count": 228,
     "metadata": {},
     "output_type": "execute_result"
    }
   ],
   "source": [
    "ggf.conditional_expected_average_profit(modeldata['frequency'],\n",
    "                               modeldata['monetary_value']).sort_values(ascending=False).head(10)"
   ]
  },
  {
   "cell_type": "markdown",
   "id": "852eccb5",
   "metadata": {},
   "source": [
    "The top 10 customers expected to be most valuable"
   ]
  },
  {
   "cell_type": "code",
   "execution_count": 229,
   "id": "d3d0f3f1",
   "metadata": {},
   "outputs": [],
   "source": [
    "gamma = ggf.conditional_expected_average_profit(modeldata['frequency'],\n",
    "                               modeldata['monetary_value']).sort_values(ascending=False)"
   ]
  },
  {
   "cell_type": "code",
   "execution_count": 115,
   "id": "94703061",
   "metadata": {},
   "outputs": [],
   "source": [
    "#df.to_excel('gamma.xlsx', sheet_name='sheet1', index=False)"
   ]
  },
  {
   "cell_type": "code",
   "execution_count": 127,
   "id": "fb1c64a1",
   "metadata": {},
   "outputs": [],
   "source": [
    "#df.to_csv('gamma.csv', index=False)"
   ]
  },
  {
   "cell_type": "markdown",
   "id": "7b3a89a4",
   "metadata": {},
   "source": [
    "## Predicting CLV by Using BG-NBD and Gamma-Gamma Models"
   ]
  },
  {
   "cell_type": "code",
   "execution_count": 230,
   "id": "5413742f",
   "metadata": {},
   "outputs": [
    {
     "data": {
      "text/html": [
       "<div>\n",
       "<style scoped>\n",
       "    .dataframe tbody tr th:only-of-type {\n",
       "        vertical-align: middle;\n",
       "    }\n",
       "\n",
       "    .dataframe tbody tr th {\n",
       "        vertical-align: top;\n",
       "    }\n",
       "\n",
       "    .dataframe thead th {\n",
       "        text-align: right;\n",
       "    }\n",
       "</style>\n",
       "<table border=\"1\" class=\"dataframe\">\n",
       "  <thead>\n",
       "    <tr style=\"text-align: right;\">\n",
       "      <th></th>\n",
       "      <th>frequency</th>\n",
       "      <th>recency</th>\n",
       "      <th>T</th>\n",
       "      <th>monetary_value</th>\n",
       "      <th>predicted_purchases</th>\n",
       "      <th>modeldata_pred_3_months</th>\n",
       "    </tr>\n",
       "    <tr>\n",
       "      <th>CustomerID</th>\n",
       "      <th></th>\n",
       "      <th></th>\n",
       "      <th></th>\n",
       "      <th></th>\n",
       "      <th></th>\n",
       "      <th></th>\n",
       "    </tr>\n",
       "  </thead>\n",
       "  <tbody>\n",
       "    <tr>\n",
       "      <th>12347.0</th>\n",
       "      <td>6.0</td>\n",
       "      <td>52.142857</td>\n",
       "      <td>52.428571</td>\n",
       "      <td>99.950278</td>\n",
       "      <td>0.122824</td>\n",
       "      <td>160.984995</td>\n",
       "    </tr>\n",
       "    <tr>\n",
       "      <th>12348.0</th>\n",
       "      <td>3.0</td>\n",
       "      <td>40.428571</td>\n",
       "      <td>51.142857</td>\n",
       "      <td>100.493333</td>\n",
       "      <td>0.080531</td>\n",
       "      <td>109.028992</td>\n",
       "    </tr>\n",
       "    <tr>\n",
       "      <th>12352.0</th>\n",
       "      <td>6.0</td>\n",
       "      <td>37.142857</td>\n",
       "      <td>42.285714</td>\n",
       "      <td>61.376111</td>\n",
       "      <td>0.143970</td>\n",
       "      <td>116.298582</td>\n",
       "    </tr>\n",
       "    <tr>\n",
       "      <th>12356.0</th>\n",
       "      <td>2.0</td>\n",
       "      <td>43.285714</td>\n",
       "      <td>46.428571</td>\n",
       "      <td>134.952500</td>\n",
       "      <td>0.070765</td>\n",
       "      <td>131.629090</td>\n",
       "    </tr>\n",
       "    <tr>\n",
       "      <th>12359.0</th>\n",
       "      <td>3.0</td>\n",
       "      <td>39.142857</td>\n",
       "      <td>47.285714</td>\n",
       "      <td>640.281111</td>\n",
       "      <td>0.085463</td>\n",
       "      <td>729.825163</td>\n",
       "    </tr>\n",
       "    <tr>\n",
       "      <th>...</th>\n",
       "      <td>...</td>\n",
       "      <td>...</td>\n",
       "      <td>...</td>\n",
       "      <td>...</td>\n",
       "      <td>...</td>\n",
       "      <td>...</td>\n",
       "    </tr>\n",
       "    <tr>\n",
       "      <th>18263.0</th>\n",
       "      <td>2.0</td>\n",
       "      <td>32.428571</td>\n",
       "      <td>36.000000</td>\n",
       "      <td>226.390000</td>\n",
       "      <td>0.084885</td>\n",
       "      <td>263.435528</td>\n",
       "    </tr>\n",
       "    <tr>\n",
       "      <th>18272.0</th>\n",
       "      <td>5.0</td>\n",
       "      <td>34.857143</td>\n",
       "      <td>35.142857</td>\n",
       "      <td>97.550400</td>\n",
       "      <td>0.144698</td>\n",
       "      <td>186.098098</td>\n",
       "    </tr>\n",
       "    <tr>\n",
       "      <th>18273.0</th>\n",
       "      <td>2.0</td>\n",
       "      <td>36.428571</td>\n",
       "      <td>36.714286</td>\n",
       "      <td>38.250000</td>\n",
       "      <td>0.083773</td>\n",
       "      <td>45.637575</td>\n",
       "    </tr>\n",
       "    <tr>\n",
       "      <th>18283.0</th>\n",
       "      <td>13.0</td>\n",
       "      <td>47.714286</td>\n",
       "      <td>48.142857</td>\n",
       "      <td>11.462012</td>\n",
       "      <td>0.239701</td>\n",
       "      <td>36.267984</td>\n",
       "    </tr>\n",
       "    <tr>\n",
       "      <th>18287.0</th>\n",
       "      <td>2.0</td>\n",
       "      <td>22.714286</td>\n",
       "      <td>28.714286</td>\n",
       "      <td>268.000000</td>\n",
       "      <td>0.098590</td>\n",
       "      <td>361.720593</td>\n",
       "    </tr>\n",
       "  </tbody>\n",
       "</table>\n",
       "<p>1916 rows × 6 columns</p>\n",
       "</div>"
      ],
      "text/plain": [
       "            frequency    recency          T  monetary_value  \\\n",
       "CustomerID                                                    \n",
       "12347.0           6.0  52.142857  52.428571       99.950278   \n",
       "12348.0           3.0  40.428571  51.142857      100.493333   \n",
       "12352.0           6.0  37.142857  42.285714       61.376111   \n",
       "12356.0           2.0  43.285714  46.428571      134.952500   \n",
       "12359.0           3.0  39.142857  47.285714      640.281111   \n",
       "...               ...        ...        ...             ...   \n",
       "18263.0           2.0  32.428571  36.000000      226.390000   \n",
       "18272.0           5.0  34.857143  35.142857       97.550400   \n",
       "18273.0           2.0  36.428571  36.714286       38.250000   \n",
       "18283.0          13.0  47.714286  48.142857       11.462012   \n",
       "18287.0           2.0  22.714286  28.714286      268.000000   \n",
       "\n",
       "            predicted_purchases  modeldata_pred_3_months  \n",
       "CustomerID                                                \n",
       "12347.0                0.122824               160.984995  \n",
       "12348.0                0.080531               109.028992  \n",
       "12352.0                0.143970               116.298582  \n",
       "12356.0                0.070765               131.629090  \n",
       "12359.0                0.085463               729.825163  \n",
       "...                         ...                      ...  \n",
       "18263.0                0.084885               263.435528  \n",
       "18272.0                0.144698               186.098098  \n",
       "18273.0                0.083773                45.637575  \n",
       "18283.0                0.239701                36.267984  \n",
       "18287.0                0.098590               361.720593  \n",
       "\n",
       "[1916 rows x 6 columns]"
      ]
     },
     "execution_count": 230,
     "metadata": {},
     "output_type": "execute_result"
    }
   ],
   "source": [
    "# The customers' lifetime values expected to in the next 3 months\n",
    "modeldata['modeldata_pred_3_months'] = ggf.customer_lifetime_value(bgf,\n",
    "                                   modeldata['frequency'],\n",
    "                                   modeldata['recency'],\n",
    "                                   modeldata['T'],\n",
    "                                   modeldata['monetary_value'],\n",
    "                                   time=3,  # 3 months\n",
    "                                   freq=\"W\",  \n",
    "# frequency information of T. In this case we set week by using 'W'\n",
    "                                   discount_rate=0.01)\n",
    "modeldata"
   ]
  },
  {
   "cell_type": "markdown",
   "id": "35a5e8f3",
   "metadata": {},
   "source": [
    "### segment our customers by using their CLV values"
   ]
  },
  {
   "cell_type": "code",
   "execution_count": 231,
   "id": "e7782e29",
   "metadata": {},
   "outputs": [
    {
     "data": {
      "text/html": [
       "<div>\n",
       "<style scoped>\n",
       "    .dataframe tbody tr th:only-of-type {\n",
       "        vertical-align: middle;\n",
       "    }\n",
       "\n",
       "    .dataframe tbody tr th {\n",
       "        vertical-align: top;\n",
       "    }\n",
       "\n",
       "    .dataframe thead th {\n",
       "        text-align: right;\n",
       "    }\n",
       "</style>\n",
       "<table border=\"1\" class=\"dataframe\">\n",
       "  <thead>\n",
       "    <tr style=\"text-align: right;\">\n",
       "      <th></th>\n",
       "      <th>frequency</th>\n",
       "      <th>recency</th>\n",
       "      <th>T</th>\n",
       "      <th>monetary_value</th>\n",
       "      <th>predicted_purchases</th>\n",
       "      <th>modeldata_pred_3_months</th>\n",
       "      <th>segment</th>\n",
       "    </tr>\n",
       "    <tr>\n",
       "      <th>CustomerID</th>\n",
       "      <th></th>\n",
       "      <th></th>\n",
       "      <th></th>\n",
       "      <th></th>\n",
       "      <th></th>\n",
       "      <th></th>\n",
       "      <th></th>\n",
       "    </tr>\n",
       "  </thead>\n",
       "  <tbody>\n",
       "    <tr>\n",
       "      <th>12347.0</th>\n",
       "      <td>6.0</td>\n",
       "      <td>52.142857</td>\n",
       "      <td>52.428571</td>\n",
       "      <td>99.950278</td>\n",
       "      <td>0.122824</td>\n",
       "      <td>160.984995</td>\n",
       "      <td>B</td>\n",
       "    </tr>\n",
       "    <tr>\n",
       "      <th>12348.0</th>\n",
       "      <td>3.0</td>\n",
       "      <td>40.428571</td>\n",
       "      <td>51.142857</td>\n",
       "      <td>100.493333</td>\n",
       "      <td>0.080531</td>\n",
       "      <td>109.028992</td>\n",
       "      <td>C</td>\n",
       "    </tr>\n",
       "    <tr>\n",
       "      <th>12352.0</th>\n",
       "      <td>6.0</td>\n",
       "      <td>37.142857</td>\n",
       "      <td>42.285714</td>\n",
       "      <td>61.376111</td>\n",
       "      <td>0.143970</td>\n",
       "      <td>116.298582</td>\n",
       "      <td>C</td>\n",
       "    </tr>\n",
       "    <tr>\n",
       "      <th>12356.0</th>\n",
       "      <td>2.0</td>\n",
       "      <td>43.285714</td>\n",
       "      <td>46.428571</td>\n",
       "      <td>134.952500</td>\n",
       "      <td>0.070765</td>\n",
       "      <td>131.629090</td>\n",
       "      <td>B</td>\n",
       "    </tr>\n",
       "    <tr>\n",
       "      <th>12359.0</th>\n",
       "      <td>3.0</td>\n",
       "      <td>39.142857</td>\n",
       "      <td>47.285714</td>\n",
       "      <td>640.281111</td>\n",
       "      <td>0.085463</td>\n",
       "      <td>729.825163</td>\n",
       "      <td>A</td>\n",
       "    </tr>\n",
       "    <tr>\n",
       "      <th>...</th>\n",
       "      <td>...</td>\n",
       "      <td>...</td>\n",
       "      <td>...</td>\n",
       "      <td>...</td>\n",
       "      <td>...</td>\n",
       "      <td>...</td>\n",
       "      <td>...</td>\n",
       "    </tr>\n",
       "    <tr>\n",
       "      <th>18263.0</th>\n",
       "      <td>2.0</td>\n",
       "      <td>32.428571</td>\n",
       "      <td>36.000000</td>\n",
       "      <td>226.390000</td>\n",
       "      <td>0.084885</td>\n",
       "      <td>263.435528</td>\n",
       "      <td>A</td>\n",
       "    </tr>\n",
       "    <tr>\n",
       "      <th>18272.0</th>\n",
       "      <td>5.0</td>\n",
       "      <td>34.857143</td>\n",
       "      <td>35.142857</td>\n",
       "      <td>97.550400</td>\n",
       "      <td>0.144698</td>\n",
       "      <td>186.098098</td>\n",
       "      <td>B</td>\n",
       "    </tr>\n",
       "    <tr>\n",
       "      <th>18273.0</th>\n",
       "      <td>2.0</td>\n",
       "      <td>36.428571</td>\n",
       "      <td>36.714286</td>\n",
       "      <td>38.250000</td>\n",
       "      <td>0.083773</td>\n",
       "      <td>45.637575</td>\n",
       "      <td>D</td>\n",
       "    </tr>\n",
       "    <tr>\n",
       "      <th>18283.0</th>\n",
       "      <td>13.0</td>\n",
       "      <td>47.714286</td>\n",
       "      <td>48.142857</td>\n",
       "      <td>11.462012</td>\n",
       "      <td>0.239701</td>\n",
       "      <td>36.267984</td>\n",
       "      <td>D</td>\n",
       "    </tr>\n",
       "    <tr>\n",
       "      <th>18287.0</th>\n",
       "      <td>2.0</td>\n",
       "      <td>22.714286</td>\n",
       "      <td>28.714286</td>\n",
       "      <td>268.000000</td>\n",
       "      <td>0.098590</td>\n",
       "      <td>361.720593</td>\n",
       "      <td>A</td>\n",
       "    </tr>\n",
       "  </tbody>\n",
       "</table>\n",
       "<p>1916 rows × 7 columns</p>\n",
       "</div>"
      ],
      "text/plain": [
       "            frequency    recency          T  monetary_value  \\\n",
       "CustomerID                                                    \n",
       "12347.0           6.0  52.142857  52.428571       99.950278   \n",
       "12348.0           3.0  40.428571  51.142857      100.493333   \n",
       "12352.0           6.0  37.142857  42.285714       61.376111   \n",
       "12356.0           2.0  43.285714  46.428571      134.952500   \n",
       "12359.0           3.0  39.142857  47.285714      640.281111   \n",
       "...               ...        ...        ...             ...   \n",
       "18263.0           2.0  32.428571  36.000000      226.390000   \n",
       "18272.0           5.0  34.857143  35.142857       97.550400   \n",
       "18273.0           2.0  36.428571  36.714286       38.250000   \n",
       "18283.0          13.0  47.714286  48.142857       11.462012   \n",
       "18287.0           2.0  22.714286  28.714286      268.000000   \n",
       "\n",
       "            predicted_purchases  modeldata_pred_3_months segment  \n",
       "CustomerID                                                        \n",
       "12347.0                0.122824               160.984995       B  \n",
       "12348.0                0.080531               109.028992       C  \n",
       "12352.0                0.143970               116.298582       C  \n",
       "12356.0                0.070765               131.629090       B  \n",
       "12359.0                0.085463               729.825163       A  \n",
       "...                         ...                      ...     ...  \n",
       "18263.0                0.084885               263.435528       A  \n",
       "18272.0                0.144698               186.098098       B  \n",
       "18273.0                0.083773                45.637575       D  \n",
       "18283.0                0.239701                36.267984       D  \n",
       "18287.0                0.098590               361.720593       A  \n",
       "\n",
       "[1916 rows x 7 columns]"
      ]
     },
     "execution_count": 231,
     "metadata": {},
     "output_type": "execute_result"
    }
   ],
   "source": [
    "modeldata['segment'] = pd.qcut(modeldata['modeldata_pred_3_months'],4,['D','C','B','A'])\n",
    "\n",
    "modeldata"
   ]
  },
  {
   "cell_type": "code",
   "execution_count": 233,
   "id": "e893e99a",
   "metadata": {},
   "outputs": [],
   "source": [
    "#modeldata['CustomerID'] = modeldata.index\n",
    "#df.loc[df.CustomerID == 17850.0].sort_values('InvoiceDate')"
   ]
  },
  {
   "cell_type": "code",
   "execution_count": 119,
   "id": "4778b295",
   "metadata": {},
   "outputs": [],
   "source": [
    "#df.to_excel('final.xlsx', sheet_name='sheet1', index=False)"
   ]
  },
  {
   "cell_type": "code",
   "execution_count": 235,
   "id": "94c61763",
   "metadata": {},
   "outputs": [],
   "source": [
    "#Merging. the tables\n",
    "#df_merge1=pd.merge(df, modeldata, left_on='CustomerID', right_on='CustomerID', how='left')#.drop('CustomerID', axis=1)"
   ]
  },
  {
   "cell_type": "code",
   "execution_count": 240,
   "id": "086417cf",
   "metadata": {},
   "outputs": [
    {
     "data": {
      "text/html": [
       "<div>\n",
       "<style scoped>\n",
       "    .dataframe tbody tr th:only-of-type {\n",
       "        vertical-align: middle;\n",
       "    }\n",
       "\n",
       "    .dataframe tbody tr th {\n",
       "        vertical-align: top;\n",
       "    }\n",
       "\n",
       "    .dataframe thead th {\n",
       "        text-align: right;\n",
       "    }\n",
       "</style>\n",
       "<table border=\"1\" class=\"dataframe\">\n",
       "  <thead>\n",
       "    <tr style=\"text-align: right;\">\n",
       "      <th></th>\n",
       "      <th>InvoiceNo</th>\n",
       "      <th>StockCode</th>\n",
       "      <th>Description</th>\n",
       "      <th>Quantity</th>\n",
       "      <th>InvoiceDate</th>\n",
       "      <th>UnitPrice</th>\n",
       "      <th>CustomerID</th>\n",
       "      <th>Country</th>\n",
       "      <th>TotalPrice</th>\n",
       "      <th>amt</th>\n",
       "      <th>frequency</th>\n",
       "      <th>recency</th>\n",
       "      <th>T</th>\n",
       "      <th>monetary_value</th>\n",
       "      <th>predicted_purchases</th>\n",
       "      <th>modeldata_pred_3_months</th>\n",
       "      <th>segment</th>\n",
       "    </tr>\n",
       "  </thead>\n",
       "  <tbody>\n",
       "    <tr>\n",
       "      <th>0</th>\n",
       "      <td>536365</td>\n",
       "      <td>85123A</td>\n",
       "      <td>WHITE HANGING HEART T-LIGHT HOLDER</td>\n",
       "      <td>6</td>\n",
       "      <td>2010-12-01</td>\n",
       "      <td>2.55</td>\n",
       "      <td>17850.0</td>\n",
       "      <td>United Kingdom</td>\n",
       "      <td>15.30</td>\n",
       "      <td>15.30</td>\n",
       "      <td>NaN</td>\n",
       "      <td>NaN</td>\n",
       "      <td>NaN</td>\n",
       "      <td>NaN</td>\n",
       "      <td>NaN</td>\n",
       "      <td>NaN</td>\n",
       "      <td>NaN</td>\n",
       "    </tr>\n",
       "    <tr>\n",
       "      <th>1</th>\n",
       "      <td>536365</td>\n",
       "      <td>71053</td>\n",
       "      <td>WHITE METAL LANTERN</td>\n",
       "      <td>6</td>\n",
       "      <td>2010-12-01</td>\n",
       "      <td>3.39</td>\n",
       "      <td>17850.0</td>\n",
       "      <td>United Kingdom</td>\n",
       "      <td>20.34</td>\n",
       "      <td>20.34</td>\n",
       "      <td>NaN</td>\n",
       "      <td>NaN</td>\n",
       "      <td>NaN</td>\n",
       "      <td>NaN</td>\n",
       "      <td>NaN</td>\n",
       "      <td>NaN</td>\n",
       "      <td>NaN</td>\n",
       "    </tr>\n",
       "    <tr>\n",
       "      <th>2</th>\n",
       "      <td>536365</td>\n",
       "      <td>84406B</td>\n",
       "      <td>CREAM CUPID HEARTS COAT HANGER</td>\n",
       "      <td>8</td>\n",
       "      <td>2010-12-01</td>\n",
       "      <td>2.75</td>\n",
       "      <td>17850.0</td>\n",
       "      <td>United Kingdom</td>\n",
       "      <td>22.00</td>\n",
       "      <td>22.00</td>\n",
       "      <td>NaN</td>\n",
       "      <td>NaN</td>\n",
       "      <td>NaN</td>\n",
       "      <td>NaN</td>\n",
       "      <td>NaN</td>\n",
       "      <td>NaN</td>\n",
       "      <td>NaN</td>\n",
       "    </tr>\n",
       "    <tr>\n",
       "      <th>3</th>\n",
       "      <td>536365</td>\n",
       "      <td>84029G</td>\n",
       "      <td>KNITTED UNION FLAG HOT WATER BOTTLE</td>\n",
       "      <td>6</td>\n",
       "      <td>2010-12-01</td>\n",
       "      <td>3.39</td>\n",
       "      <td>17850.0</td>\n",
       "      <td>United Kingdom</td>\n",
       "      <td>20.34</td>\n",
       "      <td>20.34</td>\n",
       "      <td>NaN</td>\n",
       "      <td>NaN</td>\n",
       "      <td>NaN</td>\n",
       "      <td>NaN</td>\n",
       "      <td>NaN</td>\n",
       "      <td>NaN</td>\n",
       "      <td>NaN</td>\n",
       "    </tr>\n",
       "    <tr>\n",
       "      <th>4</th>\n",
       "      <td>536365</td>\n",
       "      <td>84029E</td>\n",
       "      <td>RED WOOLLY HOTTIE WHITE HEART.</td>\n",
       "      <td>6</td>\n",
       "      <td>2010-12-01</td>\n",
       "      <td>3.39</td>\n",
       "      <td>17850.0</td>\n",
       "      <td>United Kingdom</td>\n",
       "      <td>20.34</td>\n",
       "      <td>20.34</td>\n",
       "      <td>NaN</td>\n",
       "      <td>NaN</td>\n",
       "      <td>NaN</td>\n",
       "      <td>NaN</td>\n",
       "      <td>NaN</td>\n",
       "      <td>NaN</td>\n",
       "      <td>NaN</td>\n",
       "    </tr>\n",
       "    <tr>\n",
       "      <th>...</th>\n",
       "      <td>...</td>\n",
       "      <td>...</td>\n",
       "      <td>...</td>\n",
       "      <td>...</td>\n",
       "      <td>...</td>\n",
       "      <td>...</td>\n",
       "      <td>...</td>\n",
       "      <td>...</td>\n",
       "      <td>...</td>\n",
       "      <td>...</td>\n",
       "      <td>...</td>\n",
       "      <td>...</td>\n",
       "      <td>...</td>\n",
       "      <td>...</td>\n",
       "      <td>...</td>\n",
       "      <td>...</td>\n",
       "      <td>...</td>\n",
       "    </tr>\n",
       "    <tr>\n",
       "      <th>392727</th>\n",
       "      <td>581587</td>\n",
       "      <td>22613</td>\n",
       "      <td>PACK OF 20 SPACEBOY NAPKINS</td>\n",
       "      <td>12</td>\n",
       "      <td>2011-12-09</td>\n",
       "      <td>0.85</td>\n",
       "      <td>12680.0</td>\n",
       "      <td>France</td>\n",
       "      <td>10.20</td>\n",
       "      <td>10.20</td>\n",
       "      <td>3.0</td>\n",
       "      <td>16.142857</td>\n",
       "      <td>16.142857</td>\n",
       "      <td>61.225556</td>\n",
       "      <td>0.167898</td>\n",
       "      <td>139.463957</td>\n",
       "      <td>B</td>\n",
       "    </tr>\n",
       "    <tr>\n",
       "      <th>392728</th>\n",
       "      <td>581587</td>\n",
       "      <td>22899</td>\n",
       "      <td>CHILDREN'S APRON DOLLY GIRL</td>\n",
       "      <td>6</td>\n",
       "      <td>2011-12-09</td>\n",
       "      <td>2.10</td>\n",
       "      <td>12680.0</td>\n",
       "      <td>France</td>\n",
       "      <td>12.60</td>\n",
       "      <td>12.60</td>\n",
       "      <td>3.0</td>\n",
       "      <td>16.142857</td>\n",
       "      <td>16.142857</td>\n",
       "      <td>61.225556</td>\n",
       "      <td>0.167898</td>\n",
       "      <td>139.463957</td>\n",
       "      <td>B</td>\n",
       "    </tr>\n",
       "    <tr>\n",
       "      <th>392729</th>\n",
       "      <td>581587</td>\n",
       "      <td>23254</td>\n",
       "      <td>CHILDRENS CUTLERY DOLLY GIRL</td>\n",
       "      <td>4</td>\n",
       "      <td>2011-12-09</td>\n",
       "      <td>4.15</td>\n",
       "      <td>12680.0</td>\n",
       "      <td>France</td>\n",
       "      <td>16.60</td>\n",
       "      <td>16.60</td>\n",
       "      <td>3.0</td>\n",
       "      <td>16.142857</td>\n",
       "      <td>16.142857</td>\n",
       "      <td>61.225556</td>\n",
       "      <td>0.167898</td>\n",
       "      <td>139.463957</td>\n",
       "      <td>B</td>\n",
       "    </tr>\n",
       "    <tr>\n",
       "      <th>392730</th>\n",
       "      <td>581587</td>\n",
       "      <td>23255</td>\n",
       "      <td>CHILDRENS CUTLERY CIRCUS PARADE</td>\n",
       "      <td>4</td>\n",
       "      <td>2011-12-09</td>\n",
       "      <td>4.15</td>\n",
       "      <td>12680.0</td>\n",
       "      <td>France</td>\n",
       "      <td>16.60</td>\n",
       "      <td>16.60</td>\n",
       "      <td>3.0</td>\n",
       "      <td>16.142857</td>\n",
       "      <td>16.142857</td>\n",
       "      <td>61.225556</td>\n",
       "      <td>0.167898</td>\n",
       "      <td>139.463957</td>\n",
       "      <td>B</td>\n",
       "    </tr>\n",
       "    <tr>\n",
       "      <th>392731</th>\n",
       "      <td>581587</td>\n",
       "      <td>22138</td>\n",
       "      <td>BAKING SET 9 PIECE RETROSPOT</td>\n",
       "      <td>3</td>\n",
       "      <td>2011-12-09</td>\n",
       "      <td>4.95</td>\n",
       "      <td>12680.0</td>\n",
       "      <td>France</td>\n",
       "      <td>14.85</td>\n",
       "      <td>14.85</td>\n",
       "      <td>3.0</td>\n",
       "      <td>16.142857</td>\n",
       "      <td>16.142857</td>\n",
       "      <td>61.225556</td>\n",
       "      <td>0.167898</td>\n",
       "      <td>139.463957</td>\n",
       "      <td>B</td>\n",
       "    </tr>\n",
       "  </tbody>\n",
       "</table>\n",
       "<p>392732 rows × 17 columns</p>\n",
       "</div>"
      ],
      "text/plain": [
       "       InvoiceNo StockCode                          Description  Quantity  \\\n",
       "0         536365    85123A   WHITE HANGING HEART T-LIGHT HOLDER         6   \n",
       "1         536365     71053                  WHITE METAL LANTERN         6   \n",
       "2         536365    84406B       CREAM CUPID HEARTS COAT HANGER         8   \n",
       "3         536365    84029G  KNITTED UNION FLAG HOT WATER BOTTLE         6   \n",
       "4         536365    84029E       RED WOOLLY HOTTIE WHITE HEART.         6   \n",
       "...          ...       ...                                  ...       ...   \n",
       "392727    581587     22613          PACK OF 20 SPACEBOY NAPKINS        12   \n",
       "392728    581587     22899         CHILDREN'S APRON DOLLY GIRL          6   \n",
       "392729    581587     23254        CHILDRENS CUTLERY DOLLY GIRL          4   \n",
       "392730    581587     23255      CHILDRENS CUTLERY CIRCUS PARADE         4   \n",
       "392731    581587     22138        BAKING SET 9 PIECE RETROSPOT          3   \n",
       "\n",
       "       InvoiceDate  UnitPrice  CustomerID         Country  TotalPrice    amt  \\\n",
       "0       2010-12-01       2.55     17850.0  United Kingdom       15.30  15.30   \n",
       "1       2010-12-01       3.39     17850.0  United Kingdom       20.34  20.34   \n",
       "2       2010-12-01       2.75     17850.0  United Kingdom       22.00  22.00   \n",
       "3       2010-12-01       3.39     17850.0  United Kingdom       20.34  20.34   \n",
       "4       2010-12-01       3.39     17850.0  United Kingdom       20.34  20.34   \n",
       "...            ...        ...         ...             ...         ...    ...   \n",
       "392727  2011-12-09       0.85     12680.0          France       10.20  10.20   \n",
       "392728  2011-12-09       2.10     12680.0          France       12.60  12.60   \n",
       "392729  2011-12-09       4.15     12680.0          France       16.60  16.60   \n",
       "392730  2011-12-09       4.15     12680.0          France       16.60  16.60   \n",
       "392731  2011-12-09       4.95     12680.0          France       14.85  14.85   \n",
       "\n",
       "        frequency    recency          T  monetary_value  predicted_purchases  \\\n",
       "0             NaN        NaN        NaN             NaN                  NaN   \n",
       "1             NaN        NaN        NaN             NaN                  NaN   \n",
       "2             NaN        NaN        NaN             NaN                  NaN   \n",
       "3             NaN        NaN        NaN             NaN                  NaN   \n",
       "4             NaN        NaN        NaN             NaN                  NaN   \n",
       "...           ...        ...        ...             ...                  ...   \n",
       "392727        3.0  16.142857  16.142857       61.225556             0.167898   \n",
       "392728        3.0  16.142857  16.142857       61.225556             0.167898   \n",
       "392729        3.0  16.142857  16.142857       61.225556             0.167898   \n",
       "392730        3.0  16.142857  16.142857       61.225556             0.167898   \n",
       "392731        3.0  16.142857  16.142857       61.225556             0.167898   \n",
       "\n",
       "        modeldata_pred_3_months segment  \n",
       "0                           NaN     NaN  \n",
       "1                           NaN     NaN  \n",
       "2                           NaN     NaN  \n",
       "3                           NaN     NaN  \n",
       "4                           NaN     NaN  \n",
       "...                         ...     ...  \n",
       "392727               139.463957       B  \n",
       "392728               139.463957       B  \n",
       "392729               139.463957       B  \n",
       "392730               139.463957       B  \n",
       "392731               139.463957       B  \n",
       "\n",
       "[392732 rows x 17 columns]"
      ]
     },
     "execution_count": 240,
     "metadata": {},
     "output_type": "execute_result"
    }
   ],
   "source": [
    "#df_merge1"
   ]
  },
  {
   "cell_type": "code",
   "execution_count": 238,
   "id": "b027d4bf",
   "metadata": {},
   "outputs": [],
   "source": [
    "df_merge1.to_csv('final.csv', index=False)"
   ]
  },
  {
   "cell_type": "code",
   "execution_count": 138,
   "id": "67e43c72",
   "metadata": {},
   "outputs": [],
   "source": [
    "final_model.to_csv('final_model.csv', index=True)"
   ]
  },
  {
   "cell_type": "markdown",
   "id": "ba45ed5c",
   "metadata": {},
   "source": [
    "## Machine Learning: Xgboost "
   ]
  },
  {
   "cell_type": "code",
   "execution_count": 49,
   "id": "bf14b10f",
   "metadata": {},
   "outputs": [
    {
     "data": {
      "text/plain": [
       "0         2010-12-01\n",
       "1         2010-12-01\n",
       "2         2010-12-01\n",
       "3         2010-12-01\n",
       "4         2010-12-01\n",
       "             ...    \n",
       "541904    2011-12-09\n",
       "541905    2011-12-09\n",
       "541906    2011-12-09\n",
       "541907    2011-12-09\n",
       "541908    2011-12-09\n",
       "Name: InvoiceDate, Length: 392732, dtype: object"
      ]
     },
     "execution_count": 49,
     "metadata": {},
     "output_type": "execute_result"
    }
   ],
   "source": [
    "df.InvoiceDate"
   ]
  },
  {
   "cell_type": "code",
   "execution_count": 50,
   "id": "72ba0e84",
   "metadata": {},
   "outputs": [],
   "source": [
    "import datetime\n",
    "\n",
    "df_train = df[df.InvoiceDate <= datetime.date(2011, 8, 31)]\n",
    "df_test = df[df.InvoiceDate > datetime.date(2011, 8, 31)]\n",
    "\n",
    "maxdate = df_train.InvoiceDate.max()\n",
    "mindate = df_train.InvoiceDate.min()\n",
    "\n",
    "df_train['duration'] =  (maxdate - df_train.InvoiceDate)/np.timedelta64(1, 'D')\n",
    "\n",
    "# get time duration between the last transaction to now\n",
    "dfsum1 = df_train.groupby(['CustomerID'])['duration'].min().reset_index()\n",
    "dfsum1.rename(columns = {'duration':'latetime'}, inplace = True)\n",
    "\n",
    "# get time duration between the first transaction to now\n",
    "dfsum2 = df_train.groupby(['CustomerID'])['duration'].max().reset_index()\n",
    "dfsum2.rename(columns = {'duration':'earlytime'}, inplace = True)\n",
    "\n",
    "# get transaction frequency (whole history)\n",
    "dfsum3 = df_train.groupby(['CustomerID'])['InvoiceDate'].nunique().reset_index()\n",
    "dfsum3.rename(columns={'InvoiceDate': 'freq'}, inplace=True)\n",
    "# get transaction frequency (recent 3 months history)\n",
    "dfsum4 = df_train[df_train.duration<91].groupby(['CustomerID'])['InvoiceDate'].nunique().reset_index()\n",
    "dfsum4.rename(columns={'InvoiceDate': 'freq_3m'}, inplace=True)\n",
    "\n",
    "dfsum = pd.merge(dfsum1, dfsum2, on=['CustomerID'], how='outer')\n",
    "dfsum = pd.merge(dfsum, dfsum3, on=['CustomerID'], how='outer')\n",
    "dfsum = pd.merge(dfsum, dfsum4, on=['CustomerID'], how='outer')\n",
    "\n",
    "# get target: number of transactions in test set\n",
    "dfsum_target = df_test.groupby(['CustomerID'])['InvoiceDate'].nunique().reset_index()\n",
    "dfsum_target.rename(columns={'InvoiceDate': 'target'}, inplace=True)\n",
    "dfsum = pd.merge(dfsum, dfsum_target, on=['CustomerID'], how='left')\n",
    "dfsum  = dfsum.fillna(0).sort_values(['target'], ascending = False)"
   ]
  },
  {
   "cell_type": "code",
   "execution_count": 51,
   "id": "2f0e321a",
   "metadata": {},
   "outputs": [
    {
     "data": {
      "text/plain": [
       "count    3317.000000\n",
       "mean        1.449201\n",
       "std         2.460220\n",
       "min         0.000000\n",
       "25%         0.000000\n",
       "50%         1.000000\n",
       "75%         2.000000\n",
       "max        52.000000\n",
       "Name: target, dtype: float64"
      ]
     },
     "execution_count": 51,
     "metadata": {},
     "output_type": "execute_result"
    }
   ],
   "source": [
    "dfsum['target'].describe()"
   ]
  },
  {
   "cell_type": "code",
   "execution_count": 52,
   "id": "c1d8cdf1",
   "metadata": {},
   "outputs": [
    {
     "data": {
      "text/html": [
       "<div>\n",
       "<style scoped>\n",
       "    .dataframe tbody tr th:only-of-type {\n",
       "        vertical-align: middle;\n",
       "    }\n",
       "\n",
       "    .dataframe tbody tr th {\n",
       "        vertical-align: top;\n",
       "    }\n",
       "\n",
       "    .dataframe thead th {\n",
       "        text-align: right;\n",
       "    }\n",
       "</style>\n",
       "<table border=\"1\" class=\"dataframe\">\n",
       "  <thead>\n",
       "    <tr style=\"text-align: right;\">\n",
       "      <th></th>\n",
       "      <th>CustomerID</th>\n",
       "      <th>latetime</th>\n",
       "      <th>earlytime</th>\n",
       "      <th>freq</th>\n",
       "      <th>freq_3m</th>\n",
       "      <th>target</th>\n",
       "    </tr>\n",
       "  </thead>\n",
       "  <tbody>\n",
       "    <tr>\n",
       "      <th>1463</th>\n",
       "      <td>14911.0</td>\n",
       "      <td>5.0</td>\n",
       "      <td>273.0</td>\n",
       "      <td>80</td>\n",
       "      <td>33.0</td>\n",
       "      <td>52.0</td>\n",
       "    </tr>\n",
       "    <tr>\n",
       "      <th>249</th>\n",
       "      <td>12748.0</td>\n",
       "      <td>1.0</td>\n",
       "      <td>273.0</td>\n",
       "      <td>70</td>\n",
       "      <td>29.0</td>\n",
       "      <td>44.0</td>\n",
       "    </tr>\n",
       "    <tr>\n",
       "      <th>3065</th>\n",
       "      <td>17841.0</td>\n",
       "      <td>3.0</td>\n",
       "      <td>273.0</td>\n",
       "      <td>73</td>\n",
       "      <td>29.0</td>\n",
       "      <td>39.0</td>\n",
       "    </tr>\n",
       "    <tr>\n",
       "      <th>1694</th>\n",
       "      <td>15311.0</td>\n",
       "      <td>12.0</td>\n",
       "      <td>273.0</td>\n",
       "      <td>62</td>\n",
       "      <td>20.0</td>\n",
       "      <td>28.0</td>\n",
       "    </tr>\n",
       "    <tr>\n",
       "      <th>1292</th>\n",
       "      <td>14606.0</td>\n",
       "      <td>3.0</td>\n",
       "      <td>273.0</td>\n",
       "      <td>65</td>\n",
       "      <td>19.0</td>\n",
       "      <td>24.0</td>\n",
       "    </tr>\n",
       "    <tr>\n",
       "      <th>366</th>\n",
       "      <td>12971.0</td>\n",
       "      <td>7.0</td>\n",
       "      <td>272.0</td>\n",
       "      <td>50</td>\n",
       "      <td>17.0</td>\n",
       "      <td>21.0</td>\n",
       "    </tr>\n",
       "    <tr>\n",
       "      <th>434</th>\n",
       "      <td>13089.0</td>\n",
       "      <td>0.0</td>\n",
       "      <td>269.0</td>\n",
       "      <td>47</td>\n",
       "      <td>13.0</td>\n",
       "      <td>19.0</td>\n",
       "    </tr>\n",
       "    <tr>\n",
       "      <th>134</th>\n",
       "      <td>12569.0</td>\n",
       "      <td>7.0</td>\n",
       "      <td>152.0</td>\n",
       "      <td>10</td>\n",
       "      <td>6.0</td>\n",
       "      <td>16.0</td>\n",
       "    </tr>\n",
       "    <tr>\n",
       "      <th>1315</th>\n",
       "      <td>14646.0</td>\n",
       "      <td>5.0</td>\n",
       "      <td>254.0</td>\n",
       "      <td>29</td>\n",
       "      <td>9.0</td>\n",
       "      <td>16.0</td>\n",
       "    </tr>\n",
       "    <tr>\n",
       "      <th>1248</th>\n",
       "      <td>14527.0</td>\n",
       "      <td>7.0</td>\n",
       "      <td>269.0</td>\n",
       "      <td>38</td>\n",
       "      <td>13.0</td>\n",
       "      <td>16.0</td>\n",
       "    </tr>\n",
       "  </tbody>\n",
       "</table>\n",
       "</div>"
      ],
      "text/plain": [
       "      CustomerID  latetime  earlytime  freq  freq_3m  target\n",
       "1463     14911.0       5.0      273.0    80     33.0    52.0\n",
       "249      12748.0       1.0      273.0    70     29.0    44.0\n",
       "3065     17841.0       3.0      273.0    73     29.0    39.0\n",
       "1694     15311.0      12.0      273.0    62     20.0    28.0\n",
       "1292     14606.0       3.0      273.0    65     19.0    24.0\n",
       "366      12971.0       7.0      272.0    50     17.0    21.0\n",
       "434      13089.0       0.0      269.0    47     13.0    19.0\n",
       "134      12569.0       7.0      152.0    10      6.0    16.0\n",
       "1315     14646.0       5.0      254.0    29      9.0    16.0\n",
       "1248     14527.0       7.0      269.0    38     13.0    16.0"
      ]
     },
     "execution_count": 52,
     "metadata": {},
     "output_type": "execute_result"
    }
   ],
   "source": [
    "dfsum.head(10)"
   ]
  },
  {
   "cell_type": "markdown",
   "id": "e70dbab6",
   "metadata": {},
   "source": [
    "### xgb model"
   ]
  },
  {
   "cell_type": "code",
   "execution_count": 53,
   "id": "6964452f",
   "metadata": {},
   "outputs": [
    {
     "name": "stdout",
     "output_type": "stream",
     "text": [
      "[21:33:42] WARNING: /Users/runner/work/xgboost/xgboost/python-package/build/temp.macosx-11.0-arm64-cpython-38/xgboost/src/objective/regression_obj.cu:213: reg:linear is now deprecated in favor of reg:squarederror.\n"
     ]
    },
    {
     "data": {
      "text/html": [
       "<style>#sk-container-id-1 {color: black;background-color: white;}#sk-container-id-1 pre{padding: 0;}#sk-container-id-1 div.sk-toggleable {background-color: white;}#sk-container-id-1 label.sk-toggleable__label {cursor: pointer;display: block;width: 100%;margin-bottom: 0;padding: 0.3em;box-sizing: border-box;text-align: center;}#sk-container-id-1 label.sk-toggleable__label-arrow:before {content: \"▸\";float: left;margin-right: 0.25em;color: #696969;}#sk-container-id-1 label.sk-toggleable__label-arrow:hover:before {color: black;}#sk-container-id-1 div.sk-estimator:hover label.sk-toggleable__label-arrow:before {color: black;}#sk-container-id-1 div.sk-toggleable__content {max-height: 0;max-width: 0;overflow: hidden;text-align: left;background-color: #f0f8ff;}#sk-container-id-1 div.sk-toggleable__content pre {margin: 0.2em;color: black;border-radius: 0.25em;background-color: #f0f8ff;}#sk-container-id-1 input.sk-toggleable__control:checked~div.sk-toggleable__content {max-height: 200px;max-width: 100%;overflow: auto;}#sk-container-id-1 input.sk-toggleable__control:checked~label.sk-toggleable__label-arrow:before {content: \"▾\";}#sk-container-id-1 div.sk-estimator input.sk-toggleable__control:checked~label.sk-toggleable__label {background-color: #d4ebff;}#sk-container-id-1 div.sk-label input.sk-toggleable__control:checked~label.sk-toggleable__label {background-color: #d4ebff;}#sk-container-id-1 input.sk-hidden--visually {border: 0;clip: rect(1px 1px 1px 1px);clip: rect(1px, 1px, 1px, 1px);height: 1px;margin: -1px;overflow: hidden;padding: 0;position: absolute;width: 1px;}#sk-container-id-1 div.sk-estimator {font-family: monospace;background-color: #f0f8ff;border: 1px dotted black;border-radius: 0.25em;box-sizing: border-box;margin-bottom: 0.5em;}#sk-container-id-1 div.sk-estimator:hover {background-color: #d4ebff;}#sk-container-id-1 div.sk-parallel-item::after {content: \"\";width: 100%;border-bottom: 1px solid gray;flex-grow: 1;}#sk-container-id-1 div.sk-label:hover label.sk-toggleable__label {background-color: #d4ebff;}#sk-container-id-1 div.sk-serial::before {content: \"\";position: absolute;border-left: 1px solid gray;box-sizing: border-box;top: 0;bottom: 0;left: 50%;z-index: 0;}#sk-container-id-1 div.sk-serial {display: flex;flex-direction: column;align-items: center;background-color: white;padding-right: 0.2em;padding-left: 0.2em;position: relative;}#sk-container-id-1 div.sk-item {position: relative;z-index: 1;}#sk-container-id-1 div.sk-parallel {display: flex;align-items: stretch;justify-content: center;background-color: white;position: relative;}#sk-container-id-1 div.sk-item::before, #sk-container-id-1 div.sk-parallel-item::before {content: \"\";position: absolute;border-left: 1px solid gray;box-sizing: border-box;top: 0;bottom: 0;left: 50%;z-index: -1;}#sk-container-id-1 div.sk-parallel-item {display: flex;flex-direction: column;z-index: 1;position: relative;background-color: white;}#sk-container-id-1 div.sk-parallel-item:first-child::after {align-self: flex-end;width: 50%;}#sk-container-id-1 div.sk-parallel-item:last-child::after {align-self: flex-start;width: 50%;}#sk-container-id-1 div.sk-parallel-item:only-child::after {width: 0;}#sk-container-id-1 div.sk-dashed-wrapped {border: 1px dashed gray;margin: 0 0.4em 0.5em 0.4em;box-sizing: border-box;padding-bottom: 0.4em;background-color: white;}#sk-container-id-1 div.sk-label label {font-family: monospace;font-weight: bold;display: inline-block;line-height: 1.2em;}#sk-container-id-1 div.sk-label-container {text-align: center;}#sk-container-id-1 div.sk-container {/* jupyter's `normalize.less` sets `[hidden] { display: none; }` but bootstrap.min.css set `[hidden] { display: none !important; }` so we also need the `!important` here to be able to override the default hidden behavior on the sphinx rendered scikit-learn.org. See: https://github.com/scikit-learn/scikit-learn/issues/21755 */display: inline-block !important;position: relative;}#sk-container-id-1 div.sk-text-repr-fallback {display: none;}</style><div id=\"sk-container-id-1\" class=\"sk-top-container\"><div class=\"sk-text-repr-fallback\"><pre>XGBRegressor(base_score=0.5, booster=&#x27;gbtree&#x27;, callbacks=None,\n",
       "             colsample_bylevel=1, colsample_bynode=1, colsample_bytree=1,\n",
       "             early_stopping_rounds=None, enable_categorical=False,\n",
       "             eval_metric=None, feature_types=None, gamma=0, gpu_id=-1,\n",
       "             grow_policy=&#x27;depthwise&#x27;, importance_type=None,\n",
       "             interaction_constraints=&#x27;&#x27;, learning_rate=0.300000012, max_bin=256,\n",
       "             max_cat_threshold=64, max_cat_to_onehot=4, max_delta_step=0,\n",
       "             max_depth=3, max_leaves=0, min_child_weight=1, missing=nan,\n",
       "             monotone_constraints=&#x27;()&#x27;, n_estimators=2200, n_jobs=0,\n",
       "             num_parallel_tree=1, objective=&#x27;reg:linear&#x27;, predictor=&#x27;auto&#x27;, ...)</pre><b>In a Jupyter environment, please rerun this cell to show the HTML representation or trust the notebook. <br />On GitHub, the HTML representation is unable to render, please try loading this page with nbviewer.org.</b></div><div class=\"sk-container\" hidden><div class=\"sk-item\"><div class=\"sk-estimator sk-toggleable\"><input class=\"sk-toggleable__control sk-hidden--visually\" id=\"sk-estimator-id-1\" type=\"checkbox\" checked><label for=\"sk-estimator-id-1\" class=\"sk-toggleable__label sk-toggleable__label-arrow\">XGBRegressor</label><div class=\"sk-toggleable__content\"><pre>XGBRegressor(base_score=0.5, booster=&#x27;gbtree&#x27;, callbacks=None,\n",
       "             colsample_bylevel=1, colsample_bynode=1, colsample_bytree=1,\n",
       "             early_stopping_rounds=None, enable_categorical=False,\n",
       "             eval_metric=None, feature_types=None, gamma=0, gpu_id=-1,\n",
       "             grow_policy=&#x27;depthwise&#x27;, importance_type=None,\n",
       "             interaction_constraints=&#x27;&#x27;, learning_rate=0.300000012, max_bin=256,\n",
       "             max_cat_threshold=64, max_cat_to_onehot=4, max_delta_step=0,\n",
       "             max_depth=3, max_leaves=0, min_child_weight=1, missing=nan,\n",
       "             monotone_constraints=&#x27;()&#x27;, n_estimators=2200, n_jobs=0,\n",
       "             num_parallel_tree=1, objective=&#x27;reg:linear&#x27;, predictor=&#x27;auto&#x27;, ...)</pre></div></div></div></div></div>"
      ],
      "text/plain": [
       "XGBRegressor(base_score=0.5, booster='gbtree', callbacks=None,\n",
       "             colsample_bylevel=1, colsample_bynode=1, colsample_bytree=1,\n",
       "             early_stopping_rounds=None, enable_categorical=False,\n",
       "             eval_metric=None, feature_types=None, gamma=0, gpu_id=-1,\n",
       "             grow_policy='depthwise', importance_type=None,\n",
       "             interaction_constraints='', learning_rate=0.300000012, max_bin=256,\n",
       "             max_cat_threshold=64, max_cat_to_onehot=4, max_delta_step=0,\n",
       "             max_depth=3, max_leaves=0, min_child_weight=1, missing=nan,\n",
       "             monotone_constraints='()', n_estimators=2200, n_jobs=0,\n",
       "             num_parallel_tree=1, objective='reg:linear', predictor='auto', ...)"
      ]
     },
     "execution_count": 53,
     "metadata": {},
     "output_type": "execute_result"
    }
   ],
   "source": [
    "import xgboost as xgb\n",
    "from sklearn.model_selection import train_test_split\n",
    "from sklearn.metrics import mean_squared_error\n",
    "\n",
    "xgb_model = xgb.XGBRegressor(n_estimators=2200, objective='reg:linear', max_depth = 3)\n",
    " \n",
    "predictors = ['latetime','earlytime', 'freq','freq_3m']\n",
    "X = dfsum[predictors]\n",
    "y = dfsum.target\n",
    "\n",
    "x_trains, x_valids, y_train, y_valid = train_test_split(X, y, test_size=0.3, random_state=12)\n",
    "\n",
    "xgb_model.fit(x_trains, y_train)"
   ]
  },
  {
   "cell_type": "code",
   "execution_count": 54,
   "id": "a496446d",
   "metadata": {},
   "outputs": [
    {
     "name": "stdout",
     "output_type": "stream",
     "text": [
      "RMSE on test set:  1.880985205819689\n"
     ]
    }
   ],
   "source": [
    "y_pred = xgb_model.predict(x_valids)\n",
    "rmse = mean_squared_error(y_valid, y_pred)**(1/2)\n",
    "print('RMSE on test set: ', rmse)"
   ]
  },
  {
   "cell_type": "code",
   "execution_count": 55,
   "id": "39471178",
   "metadata": {},
   "outputs": [
    {
     "name": "stdout",
     "output_type": "stream",
     "text": [
      "[21:33:42] WARNING: /Users/runner/work/xgboost/xgboost/python-package/build/temp.macosx-11.0-arm64-cpython-38/xgboost/src/objective/regression_obj.cu:213: reg:linear is now deprecated in favor of reg:squarederror.\n",
      "RMSE:  0.7855307356993125\n",
      "SMAPE 1.0374473278131355\n",
      "R2:  0.8980212873955719\n"
     ]
    }
   ],
   "source": [
    "xgb_model2 = xgb.XGBRegressor(n_estimators=2200, objective='reg:linear', max_depth = 3)\n",
    "xgb_model2.fit(X, y)\n",
    "y_pred2 = xgb_model2.predict(X)\n",
    "print('RMSE: ', mean_squared_error(y, y_pred2)**(1/2))\n",
    "print('SMAPE', smape(y, y_pred2))\n",
    "print('R2: ', r2_score(y, y_pred2))"
   ]
  },
  {
   "cell_type": "markdown",
   "id": "ec566290",
   "metadata": {},
   "source": [
    "Feature importance\n",
    "\n",
    "importance_type:\n",
    "\n",
    "‘weight’ - the number of times a feature is used to split the data across all trees.\n",
    "\n",
    "‘gain’ - the average gain across all splits the feature is used in. most popular way.\n",
    "\n",
    "‘cover’ - the average coverage across all splits the feature is used in. (yes/no proportion)\n",
    "\n",
    "‘total_gain’ - the total gain across all splits the feature is used in.\n",
    "\n",
    "‘total_cover’ - the total coverage across all splits the feature is used in."
   ]
  },
  {
   "cell_type": "code",
   "execution_count": 56,
   "id": "0eaba81f",
   "metadata": {},
   "outputs": [
    {
     "data": {
      "text/plain": [
       "<AxesSubplot:title={'center':'Feature importance'}, xlabel='F score', ylabel='Features'>"
      ]
     },
     "execution_count": 56,
     "metadata": {},
     "output_type": "execute_result"
    },
    {
     "data": {
      "image/png": "[encoded data removed]",
      "text/plain": [
       "<Figure size 432x288 with 1 Axes>"
      ]
     },
     "metadata": {
      "needs_background": "light"
     },
     "output_type": "display_data"
    }
   ],
   "source": [
    "xgb.plot_importance(xgb_model, importance_type='gain')"
   ]
  },
  {
   "cell_type": "code",
   "execution_count": 57,
   "id": "c2946709",
   "metadata": {},
   "outputs": [
    {
     "data": {
      "text/plain": [
       "<AxesSubplot:title={'center':'Feature importance'}, xlabel='F score', ylabel='Features'>"
      ]
     },
     "execution_count": 57,
     "metadata": {},
     "output_type": "execute_result"
    },
    {
     "data": {
      "image/png": "[encoded data removed]",
      "text/plain": [
       "<Figure size 432x288 with 1 Axes>"
      ]
     },
     "metadata": {
      "needs_background": "light"
     },
     "output_type": "display_data"
    }
   ],
   "source": [
    "xgb.plot_importance(xgb_model, importance_type='weight')"
   ]
  },
  {
   "cell_type": "code",
   "execution_count": null,
   "id": "61032a6d",
   "metadata": {},
   "outputs": [],
   "source": []
  }
 ],
 "metadata": {
  "kernelspec": {
   "display_name": "tf_env",
   "language": "python",
   "name": "tf_env"
  },
  "language_info": {
   "codemirror_mode": {
    "name": "ipython",
    "version": 3
   },
   "file_extension": ".py",
   "mimetype": "text/x-python",
   "name": "python",
   "nbconvert_exporter": "python",
   "pygments_lexer": "ipython3",
   "version": "3.10.5"
  }
 },
 "nbformat": 4,
 "nbformat_minor": 5
}
